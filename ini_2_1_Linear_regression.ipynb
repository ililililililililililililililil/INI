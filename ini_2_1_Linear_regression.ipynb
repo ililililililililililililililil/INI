{
  "nbformat": 4,
  "nbformat_minor": 0,
  "metadata": {
    "colab": {
      "provenance": [],
      "authorship_tag": "ABX9TyO6TAVcb6tyivJz0SI2u95g",
      "include_colab_link": true
    },
    "kernelspec": {
      "name": "python3",
      "display_name": "Python 3"
    },
    "language_info": {
      "name": "python"
    }
  },
  "cells": [
    {
      "cell_type": "markdown",
      "metadata": {
        "id": "view-in-github",
        "colab_type": "text"
      },
      "source": [
        "<a href=\"https://colab.research.google.com/github/ililililililililililililililil/INI/blob/ini_pytorch/ini_2_1_Linear_regression.ipynb\" target=\"_parent\"><img src=\"https://colab.research.google.com/assets/colab-badge.svg\" alt=\"Open In Colab\"/></a>"
      ]
    },
    {
      "cell_type": "code",
      "execution_count": 9,
      "metadata": {
        "id": "WaLqJAOCI32c"
      },
      "outputs": [],
      "source": [
        "import torch"
      ]
    },
    {
      "cell_type": "code",
      "source": [
        "#공부한 시간과 점수의 상관관계\n",
        "#트레이닝 데이터\n",
        "\n",
        "x_train = torch.FloatTensor([[1], [2], [3]]) # 입력\n",
        "y_train = torch.FloatTensor([[2], [4], [6]]) # 출력"
      ],
      "metadata": {
        "id": "p32bCxEuJxEC"
      },
      "execution_count": 10,
      "outputs": []
    },
    {
      "cell_type": "code",
      "source": [
        "#Linear Regression: 학습 데이터와 가장 잘 맞는 하나의 직선을 찾는 일 (y = Wx + b)\n",
        "\n",
        "W = torch.zeros(1, requires_grad = True)\n",
        "b = torch.zeros(1, requires_grad = True)\n",
        "#처음에는 어떤 입력을 받아도 0을 예측, 학습할 것이라고 명시"
      ],
      "metadata": {
        "id": "KEhpoes-LZ3O"
      },
      "execution_count": 11,
      "outputs": []
    },
    {
      "cell_type": "code",
      "source": [
        "optimizer = torch.optim.SGD([W, b], lr = 0.01) # lr: learning rate\n",
        "#강의자료 코드는 optimizer = optim.SGD([W, b], lr = 0.01) 였는데 오류가 떠서 torch 추가했더니 해결되었다"
      ],
      "metadata": {
        "id": "Fd-AwFOCPE_U"
      },
      "execution_count": 12,
      "outputs": []
    },
    {
      "cell_type": "code",
      "source": [
        "#학습\n",
        "#모델이 얼마나 정답과 가까운지 알아야 한다: loss\n",
        "#Linear Regression에서는 MSE 함수로 loss 계산\n",
        "\n",
        "nb_epochs = 1000\n",
        "for epoch in range(1, nb_epochs + 1):\n",
        "  hypothesis = x_train * W + b\n",
        "  cost = torch.mean((hypothesis - y_train) ** 2)\n",
        "\n",
        "  optimizer.zero_grad() # gradient 초기화\n",
        "  cost.backward() # gradient 계산\n",
        "  optimizer.step() # 개선"
      ],
      "metadata": {
        "id": "NSzRFsEMMXHx"
      },
      "execution_count": 13,
      "outputs": []
    },
    {
      "cell_type": "code",
      "source": [],
      "metadata": {
        "id": "Rhff4d3VM-pR"
      },
      "execution_count": 7,
      "outputs": []
    }
  ]
}