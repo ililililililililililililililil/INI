{
  "nbformat": 4,
  "nbformat_minor": 0,
  "metadata": {
    "colab": {
      "provenance": [],
      "authorship_tag": "ABX9TyOOcv45uK7f2hxVLRQTf4tm",
      "include_colab_link": true
    },
    "kernelspec": {
      "name": "python3",
      "display_name": "Python 3"
    },
    "language_info": {
      "name": "python"
    }
  },
  "cells": [
    {
      "cell_type": "markdown",
      "metadata": {
        "id": "view-in-github",
        "colab_type": "text"
      },
      "source": [
        "<a href=\"https://colab.research.google.com/github/ililililililililililililililil/INI/blob/ini_pytorch/ini_4_2_Loading_Data.ipynb\" target=\"_parent\"><img src=\"https://colab.research.google.com/assets/colab-badge.svg\" alt=\"Open In Colab\"/></a>"
      ]
    },
    {
      "cell_type": "code",
      "execution_count": 20,
      "metadata": {
        "id": "6RcwK1zY9KrE"
      },
      "outputs": [],
      "source": [
        "import torch\n",
        "import torch.nn as nn\n",
        "import torch.nn.functional as F"
      ]
    },
    {
      "cell_type": "code",
      "source": [
        "class MultivariateLinearRegressionModel(nn.Module):\n",
        "    def __init__(self):\n",
        "        super().__init__()\n",
        "        self.linear = nn.Linear(3, 1)\n",
        "        \n",
        "    def forward(self, x):\n",
        "        return self.linear(x)"
      ],
      "metadata": {
        "id": "wRx0gS5KBgnm"
      },
      "execution_count": 21,
      "outputs": []
    },
    {
      "cell_type": "code",
      "source": [
        "from torch.utils.data import Dataset\n",
        "\n",
        "class CustomDataset(Dataset):\n",
        "    def __init__(self):\n",
        "        self.x_data = [[73, 80, 75],\n",
        "                      [93, 88, 93],\n",
        "                      [89, 91, 90],\n",
        "                      [96, 98, 100],\n",
        "                      [73, 66, 70]]\n",
        "        self.y_data = [[152], [185], [180], [196], [142]]\n",
        "        \n",
        "    def __len__(self):\n",
        "        return len(self.x_data)\n",
        "    \n",
        "    def __getitem__(self, idx):\n",
        "        x = torch.FloatTensor(self.x_data[idx])\n",
        "        y = torch.FloatTensor(self.y_data[idx])\n",
        "        \n",
        "        return x, y"
      ],
      "metadata": {
        "id": "j3t5UgSG-Hg9"
      },
      "execution_count": 29,
      "outputs": []
    },
    {
      "cell_type": "code",
      "source": [
        "dataset = CustomDataset()"
      ],
      "metadata": {
        "id": "u4bOrDKV_Klx"
      },
      "execution_count": 23,
      "outputs": []
    },
    {
      "cell_type": "code",
      "source": [
        "from torch.utils.data import DataLoader\n",
        "\n",
        "dataloader = DataLoader(\n",
        "    dataset,\n",
        "    batch_size = 2,\n",
        "    shuffle = True,\n",
        ")"
      ],
      "metadata": {
        "id": "8BkYkSaG_N7_"
      },
      "execution_count": 24,
      "outputs": []
    },
    {
      "cell_type": "code",
      "source": [
        "# 모델초기화\n",
        "\n",
        "model = MultivariateLinearRegressionModel()"
      ],
      "metadata": {
        "id": "Tu_hGqulBau7"
      },
      "execution_count": 25,
      "outputs": []
    },
    {
      "cell_type": "code",
      "source": [
        "# optimizer 설정\n",
        "optimizer = torch.optim.SGD(model.parameters(), lr=1e-5) #강의자료 코드에서 torch 추가"
      ],
      "metadata": {
        "id": "q5GjrwH6BX_S"
      },
      "execution_count": 26,
      "outputs": []
    },
    {
      "cell_type": "code",
      "source": [
        "nb_epochs = 20\n",
        "for epoch in range(nb_epochs + 1):\n",
        "  for batch_idx, samples in enumerate(dataloader):\n",
        "    x_train, y_train = samples\n",
        "    # H(x) 계산\n",
        "    prediction = model(x_train)\n",
        "    \n",
        "    # cost 계산\n",
        "    cost = F.mse_loss(prediction, y_train)\n",
        "    \n",
        "    # cost로 H(x) 개선\n",
        "    optimizer.zero_grad()\n",
        "    cost.backward()\n",
        "    optimizer.step()\n",
        "    \n",
        "    print('Epoch : {:4d}/{} Batch {}/{} Cost: {:.6f}'.format(\n",
        "            epoch, nb_epochs, batch_idx+1, len(dataloader), cost.item()\n",
        "        ))"
      ],
      "metadata": {
        "colab": {
          "base_uri": "https://localhost:8080/"
        },
        "id": "BWLXgaEp_m_I",
        "outputId": "46a57157-b375-4cec-d04a-7f284d05e63c"
      },
      "execution_count": 31,
      "outputs": [
        {
          "output_type": "stream",
          "name": "stdout",
          "text": [
            "Epoch :    0/20 Batch 1/3 Cost: 19.124935\n",
            "Epoch :    0/20 Batch 2/3 Cost: 7.995906\n",
            "Epoch :    0/20 Batch 3/3 Cost: 4.287268\n",
            "Epoch :    1/20 Batch 1/3 Cost: 9.561466\n",
            "Epoch :    1/20 Batch 2/3 Cost: 12.740735\n",
            "Epoch :    1/20 Batch 3/3 Cost: 21.403894\n",
            "Epoch :    2/20 Batch 1/3 Cost: 7.903849\n",
            "Epoch :    2/20 Batch 2/3 Cost: 16.491594\n",
            "Epoch :    2/20 Batch 3/3 Cost: 18.526918\n",
            "Epoch :    3/20 Batch 1/3 Cost: 16.326099\n",
            "Epoch :    3/20 Batch 2/3 Cost: 12.182226\n",
            "Epoch :    3/20 Batch 3/3 Cost: 0.673589\n",
            "Epoch :    4/20 Batch 1/3 Cost: 1.097829\n",
            "Epoch :    4/20 Batch 2/3 Cost: 23.085957\n",
            "Epoch :    4/20 Batch 3/3 Cost: 23.604332\n",
            "Epoch :    5/20 Batch 1/3 Cost: 5.613239\n",
            "Epoch :    5/20 Batch 2/3 Cost: 16.378176\n",
            "Epoch :    5/20 Batch 3/3 Cost: 16.781784\n",
            "Epoch :    6/20 Batch 1/3 Cost: 6.677258\n",
            "Epoch :    6/20 Batch 2/3 Cost: 25.972336\n",
            "Epoch :    6/20 Batch 3/3 Cost: 5.441145\n",
            "Epoch :    7/20 Batch 1/3 Cost: 21.284702\n",
            "Epoch :    7/20 Batch 2/3 Cost: 7.625895\n",
            "Epoch :    7/20 Batch 3/3 Cost: 14.352601\n",
            "Epoch :    8/20 Batch 1/3 Cost: 3.494428\n",
            "Epoch :    8/20 Batch 2/3 Cost: 32.199368\n",
            "Epoch :    8/20 Batch 3/3 Cost: 6.068837\n",
            "Epoch :    9/20 Batch 1/3 Cost: 9.343239\n",
            "Epoch :    9/20 Batch 2/3 Cost: 16.610531\n",
            "Epoch :    9/20 Batch 3/3 Cost: 4.736681\n",
            "Epoch :   10/20 Batch 1/3 Cost: 9.973275\n",
            "Epoch :   10/20 Batch 2/3 Cost: 10.530676\n",
            "Epoch :   10/20 Batch 3/3 Cost: 18.505383\n",
            "Epoch :   11/20 Batch 1/3 Cost: 0.343249\n",
            "Epoch :   11/20 Batch 2/3 Cost: 25.980137\n",
            "Epoch :   11/20 Batch 3/3 Cost: 21.542057\n",
            "Epoch :   12/20 Batch 1/3 Cost: 12.522830\n",
            "Epoch :   12/20 Batch 2/3 Cost: 9.338565\n",
            "Epoch :   12/20 Batch 3/3 Cost: 24.141712\n",
            "Epoch :   13/20 Batch 1/3 Cost: 8.549471\n",
            "Epoch :   13/20 Batch 2/3 Cost: 26.635336\n",
            "Epoch :   13/20 Batch 3/3 Cost: 1.061432\n",
            "Epoch :   14/20 Batch 1/3 Cost: 16.493338\n",
            "Epoch :   14/20 Batch 2/3 Cost: 8.995926\n",
            "Epoch :   14/20 Batch 3/3 Cost: 1.425236\n",
            "Epoch :   15/20 Batch 1/3 Cost: 14.266678\n",
            "Epoch :   15/20 Batch 2/3 Cost: 10.897175\n",
            "Epoch :   15/20 Batch 3/3 Cost: 1.374149\n",
            "Epoch :   16/20 Batch 1/3 Cost: 14.255049\n",
            "Epoch :   16/20 Batch 2/3 Cost: 1.960116\n",
            "Epoch :   16/20 Batch 3/3 Cost: 23.007521\n",
            "Epoch :   17/20 Batch 1/3 Cost: 7.833035\n",
            "Epoch :   17/20 Batch 2/3 Cost: 14.641702\n",
            "Epoch :   17/20 Batch 3/3 Cost: 7.255089\n",
            "Epoch :   18/20 Batch 1/3 Cost: 14.429672\n",
            "Epoch :   18/20 Batch 2/3 Cost: 1.683970\n",
            "Epoch :   18/20 Batch 3/3 Cost: 23.304897\n",
            "Epoch :   19/20 Batch 1/3 Cost: 6.300761\n",
            "Epoch :   19/20 Batch 2/3 Cost: 16.964142\n",
            "Epoch :   19/20 Batch 3/3 Cost: 26.513008\n",
            "Epoch :   20/20 Batch 1/3 Cost: 0.954423\n",
            "Epoch :   20/20 Batch 2/3 Cost: 15.106052\n",
            "Epoch :   20/20 Batch 3/3 Cost: 20.718498\n"
          ]
        }
      ]
    },
    {
      "cell_type": "code",
      "source": [],
      "metadata": {
        "id": "G9FhqbYsBntW"
      },
      "execution_count": null,
      "outputs": []
    }
  ]
}