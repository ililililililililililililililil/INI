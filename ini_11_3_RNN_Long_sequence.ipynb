{
  "nbformat": 4,
  "nbformat_minor": 0,
  "metadata": {
    "colab": {
      "provenance": [],
      "authorship_tag": "ABX9TyPOAfJEW+oWnEBe6mUpbaul",
      "include_colab_link": true
    },
    "kernelspec": {
      "name": "python3",
      "display_name": "Python 3"
    },
    "language_info": {
      "name": "python"
    }
  },
  "cells": [
    {
      "cell_type": "markdown",
      "metadata": {
        "id": "view-in-github",
        "colab_type": "text"
      },
      "source": [
        "<a href=\"https://colab.research.google.com/github/ililililililililililililililil/INI/blob/ini_pytorch/ini_11_3_RNN_Long_sequence.ipynb\" target=\"_parent\"><img src=\"https://colab.research.google.com/assets/colab-badge.svg\" alt=\"Open In Colab\"/></a>"
      ]
    },
    {
      "cell_type": "code",
      "execution_count": 1,
      "metadata": {
        "id": "9vGrbFdz0lhk"
      },
      "outputs": [],
      "source": [
        "import torch\n",
        "import torch.optim as optim\n",
        "import numpy as np"
      ]
    },
    {
      "cell_type": "code",
      "source": [
        "# Random seed to make results deterministic and reproducible\n",
        "torch.manual_seed(0)"
      ],
      "metadata": {
        "colab": {
          "base_uri": "https://localhost:8080/"
        },
        "id": "d-zG4VLq0xe0",
        "outputId": "8fca908e-4eb1-44bb-b408-ca317e96f972"
      },
      "execution_count": 2,
      "outputs": [
        {
          "output_type": "execute_result",
          "data": {
            "text/plain": [
              "<torch._C.Generator at 0x7e762c3053f0>"
            ]
          },
          "metadata": {},
          "execution_count": 2
        }
      ]
    },
    {
      "cell_type": "code",
      "source": [
        "sentence = (\"if you want to build a ship, don't drum up people together to \"\n",
        "            \"collect wood and don't assign them tasks and work, but rather \"\n",
        "            \"teach them to long for the endless immensity of the sea.\")"
      ],
      "metadata": {
        "id": "pr1xqxMm0yi-"
      },
      "execution_count": 3,
      "outputs": []
    },
    {
      "cell_type": "code",
      "source": [
        "# make dictionary\n",
        "char_set = list(set(sentence))\n",
        "char_dic = {c: i for i, c in enumerate(char_set)}"
      ],
      "metadata": {
        "id": "NcdrmTj90zp5"
      },
      "execution_count": 4,
      "outputs": []
    },
    {
      "cell_type": "code",
      "source": [
        "# hyper parameters\n",
        "dic_size = len(char_dic)\n",
        "hidden_size = len(char_dic)\n",
        "sequence_length = 10  # Any arbitrary number\n",
        "learning_rate = 0.1"
      ],
      "metadata": {
        "id": "643khnyn00tK"
      },
      "execution_count": 5,
      "outputs": []
    },
    {
      "cell_type": "code",
      "source": [
        "# data setting\n",
        "x_data = []\n",
        "y_data = []\n",
        "\n",
        "for i in range(0, len(sentence) - sequence_length):\n",
        "    x_str = sentence[i:i + sequence_length]\n",
        "    y_str = sentence[i + 1: i + sequence_length + 1]\n",
        "    print(i, x_str, '->', y_str)\n",
        "\n",
        "    x_data.append([char_dic[c] for c in x_str])  # x str to index\n",
        "    y_data.append([char_dic[c] for c in y_str])  # y str to index\n",
        "\n",
        "x_one_hot = [np.eye(dic_size)[x] for x in x_data]"
      ],
      "metadata": {
        "colab": {
          "base_uri": "https://localhost:8080/"
        },
        "id": "ME6_iS2a01t5",
        "outputId": "19bcd3d0-f770-454d-a3db-50049a70327a"
      },
      "execution_count": 6,
      "outputs": [
        {
          "output_type": "stream",
          "name": "stdout",
          "text": [
            "0 if you wan -> f you want\n",
            "1 f you want ->  you want \n",
            "2  you want  -> you want t\n",
            "3 you want t -> ou want to\n",
            "4 ou want to -> u want to \n",
            "5 u want to  ->  want to b\n",
            "6  want to b -> want to bu\n",
            "7 want to bu -> ant to bui\n",
            "8 ant to bui -> nt to buil\n",
            "9 nt to buil -> t to build\n",
            "10 t to build ->  to build \n",
            "11  to build  -> to build a\n",
            "12 to build a -> o build a \n",
            "13 o build a  ->  build a s\n",
            "14  build a s -> build a sh\n",
            "15 build a sh -> uild a shi\n",
            "16 uild a shi -> ild a ship\n",
            "17 ild a ship -> ld a ship,\n",
            "18 ld a ship, -> d a ship, \n",
            "19 d a ship,  ->  a ship, d\n",
            "20  a ship, d -> a ship, do\n",
            "21 a ship, do ->  ship, don\n",
            "22  ship, don -> ship, don'\n",
            "23 ship, don' -> hip, don't\n",
            "24 hip, don't -> ip, don't \n",
            "25 ip, don't  -> p, don't d\n",
            "26 p, don't d -> , don't dr\n",
            "27 , don't dr ->  don't dru\n",
            "28  don't dru -> don't drum\n",
            "29 don't drum -> on't drum \n",
            "30 on't drum  -> n't drum u\n",
            "31 n't drum u -> 't drum up\n",
            "32 't drum up -> t drum up \n",
            "33 t drum up  ->  drum up p\n",
            "34  drum up p -> drum up pe\n",
            "35 drum up pe -> rum up peo\n",
            "36 rum up peo -> um up peop\n",
            "37 um up peop -> m up peopl\n",
            "38 m up peopl ->  up people\n",
            "39  up people -> up people \n",
            "40 up people  -> p people t\n",
            "41 p people t ->  people to\n",
            "42  people to -> people tog\n",
            "43 people tog -> eople toge\n",
            "44 eople toge -> ople toget\n",
            "45 ople toget -> ple togeth\n",
            "46 ple togeth -> le togethe\n",
            "47 le togethe -> e together\n",
            "48 e together ->  together \n",
            "49  together  -> together t\n",
            "50 together t -> ogether to\n",
            "51 ogether to -> gether to \n",
            "52 gether to  -> ether to c\n",
            "53 ether to c -> ther to co\n",
            "54 ther to co -> her to col\n",
            "55 her to col -> er to coll\n",
            "56 er to coll -> r to colle\n",
            "57 r to colle ->  to collec\n",
            "58  to collec -> to collect\n",
            "59 to collect -> o collect \n",
            "60 o collect  ->  collect w\n",
            "61  collect w -> collect wo\n",
            "62 collect wo -> ollect woo\n",
            "63 ollect woo -> llect wood\n",
            "64 llect wood -> lect wood \n",
            "65 lect wood  -> ect wood a\n",
            "66 ect wood a -> ct wood an\n",
            "67 ct wood an -> t wood and\n",
            "68 t wood and ->  wood and \n",
            "69  wood and  -> wood and d\n",
            "70 wood and d -> ood and do\n",
            "71 ood and do -> od and don\n",
            "72 od and don -> d and don'\n",
            "73 d and don' ->  and don't\n",
            "74  and don't -> and don't \n",
            "75 and don't  -> nd don't a\n",
            "76 nd don't a -> d don't as\n",
            "77 d don't as ->  don't ass\n",
            "78  don't ass -> don't assi\n",
            "79 don't assi -> on't assig\n",
            "80 on't assig -> n't assign\n",
            "81 n't assign -> 't assign \n",
            "82 't assign  -> t assign t\n",
            "83 t assign t ->  assign th\n",
            "84  assign th -> assign the\n",
            "85 assign the -> ssign them\n",
            "86 ssign them -> sign them \n",
            "87 sign them  -> ign them t\n",
            "88 ign them t -> gn them ta\n",
            "89 gn them ta -> n them tas\n",
            "90 n them tas ->  them task\n",
            "91  them task -> them tasks\n",
            "92 them tasks -> hem tasks \n",
            "93 hem tasks  -> em tasks a\n",
            "94 em tasks a -> m tasks an\n",
            "95 m tasks an ->  tasks and\n",
            "96  tasks and -> tasks and \n",
            "97 tasks and  -> asks and w\n",
            "98 asks and w -> sks and wo\n",
            "99 sks and wo -> ks and wor\n",
            "100 ks and wor -> s and work\n",
            "101 s and work ->  and work,\n",
            "102  and work, -> and work, \n",
            "103 and work,  -> nd work, b\n",
            "104 nd work, b -> d work, bu\n",
            "105 d work, bu ->  work, but\n",
            "106  work, but -> work, but \n",
            "107 work, but  -> ork, but r\n",
            "108 ork, but r -> rk, but ra\n",
            "109 rk, but ra -> k, but rat\n",
            "110 k, but rat -> , but rath\n",
            "111 , but rath ->  but rathe\n",
            "112  but rathe -> but rather\n",
            "113 but rather -> ut rather \n",
            "114 ut rather  -> t rather t\n",
            "115 t rather t ->  rather te\n",
            "116  rather te -> rather tea\n",
            "117 rather tea -> ather teac\n",
            "118 ather teac -> ther teach\n",
            "119 ther teach -> her teach \n",
            "120 her teach  -> er teach t\n",
            "121 er teach t -> r teach th\n",
            "122 r teach th ->  teach the\n",
            "123  teach the -> teach them\n",
            "124 teach them -> each them \n",
            "125 each them  -> ach them t\n",
            "126 ach them t -> ch them to\n",
            "127 ch them to -> h them to \n",
            "128 h them to  ->  them to l\n",
            "129  them to l -> them to lo\n",
            "130 them to lo -> hem to lon\n",
            "131 hem to lon -> em to long\n",
            "132 em to long -> m to long \n",
            "133 m to long  ->  to long f\n",
            "134  to long f -> to long fo\n",
            "135 to long fo -> o long for\n",
            "136 o long for ->  long for \n",
            "137  long for  -> long for t\n",
            "138 long for t -> ong for th\n",
            "139 ong for th -> ng for the\n",
            "140 ng for the -> g for the \n",
            "141 g for the  ->  for the e\n",
            "142  for the e -> for the en\n",
            "143 for the en -> or the end\n",
            "144 or the end -> r the endl\n",
            "145 r the endl ->  the endle\n",
            "146  the endle -> the endles\n",
            "147 the endles -> he endless\n",
            "148 he endless -> e endless \n",
            "149 e endless  ->  endless i\n",
            "150  endless i -> endless im\n",
            "151 endless im -> ndless imm\n",
            "152 ndless imm -> dless imme\n",
            "153 dless imme -> less immen\n",
            "154 less immen -> ess immens\n",
            "155 ess immens -> ss immensi\n",
            "156 ss immensi -> s immensit\n",
            "157 s immensit ->  immensity\n",
            "158  immensity -> immensity \n",
            "159 immensity  -> mmensity o\n",
            "160 mmensity o -> mensity of\n",
            "161 mensity of -> ensity of \n",
            "162 ensity of  -> nsity of t\n",
            "163 nsity of t -> sity of th\n",
            "164 sity of th -> ity of the\n",
            "165 ity of the -> ty of the \n",
            "166 ty of the  -> y of the s\n",
            "167 y of the s ->  of the se\n",
            "168  of the se -> of the sea\n",
            "169 of the sea -> f the sea.\n"
          ]
        }
      ]
    },
    {
      "cell_type": "code",
      "source": [
        "# transform as torch tensor variable\n",
        "X = torch.FloatTensor(x_one_hot)\n",
        "Y = torch.LongTensor(y_data)"
      ],
      "metadata": {
        "colab": {
          "base_uri": "https://localhost:8080/"
        },
        "id": "baBm4Gxl026Z",
        "outputId": "9b89a301-08cf-4f7b-f1e4-b181d30affdb"
      },
      "execution_count": 7,
      "outputs": [
        {
          "output_type": "stream",
          "name": "stderr",
          "text": [
            "<ipython-input-7-52579379b225>:2: UserWarning: Creating a tensor from a list of numpy.ndarrays is extremely slow. Please consider converting the list to a single numpy.ndarray with numpy.array() before converting to a tensor. (Triggered internally at ../torch/csrc/utils/tensor_new.cpp:245.)\n",
            "  X = torch.FloatTensor(x_one_hot)\n"
          ]
        }
      ]
    },
    {
      "cell_type": "code",
      "source": [
        "# declare RNN + FC\n",
        "class Net(torch.nn.Module):\n",
        "    def __init__(self, input_dim, hidden_dim, layers):\n",
        "        super(Net, self).__init__()\n",
        "        self.rnn = torch.nn.RNN(input_dim, hidden_dim, num_layers=layers, batch_first=True)\n",
        "        self.fc = torch.nn.Linear(hidden_dim, hidden_dim, bias=True)\n",
        "\n",
        "    def forward(self, x):\n",
        "        x, _status = self.rnn(x)\n",
        "        x = self.fc(x)\n",
        "        return x"
      ],
      "metadata": {
        "id": "PPj203yv06Xp"
      },
      "execution_count": 8,
      "outputs": []
    },
    {
      "cell_type": "code",
      "source": [
        "# declare RNN + FC\n",
        "class Net(torch.nn.Module):\n",
        "    def __init__(self, input_dim, hidden_dim, layers):\n",
        "        super(Net, self).__init__()\n",
        "        self.rnn = torch.nn.RNN(input_dim, hidden_dim, num_layers=layers, batch_first=True)\n",
        "        self.fc = torch.nn.Linear(hidden_dim, hidden_dim, bias=True)\n",
        "\n",
        "    def forward(self, x):\n",
        "        x, _status = self.rnn(x)\n",
        "        x = self.fc(x)\n",
        "        return x\n",
        "\n",
        "\n",
        "net = Net(dic_size, hidden_size, 2)"
      ],
      "metadata": {
        "id": "Ro1qPG6F074G"
      },
      "execution_count": 9,
      "outputs": []
    },
    {
      "cell_type": "code",
      "source": [
        "# loss & optimizer setting\n",
        "criterion = torch.nn.CrossEntropyLoss()\n",
        "optimizer = optim.Adam(net.parameters(), learning_rate)"
      ],
      "metadata": {
        "id": "te7XUjCy09IX"
      },
      "execution_count": 10,
      "outputs": []
    },
    {
      "cell_type": "code",
      "source": [
        "# start training\n",
        "for i in range(100):\n",
        "    optimizer.zero_grad()\n",
        "    outputs = net(X)\n",
        "    loss = criterion(outputs.view(-1, dic_size), Y.view(-1))\n",
        "    loss.backward()\n",
        "    optimizer.step()\n",
        "\n",
        "    results = outputs.argmax(dim=2)\n",
        "    predict_str = \"\"\n",
        "    for j, result in enumerate(results):\n",
        "        # print(i, j, ''.join([char_set[t] for t in result]), loss.item())\n",
        "        if j == 0:\n",
        "            predict_str += ''.join([char_set[t] for t in result])\n",
        "        else:\n",
        "            predict_str += char_set[result[-1]]\n",
        "\n",
        "    print(predict_str)"
      ],
      "metadata": {
        "colab": {
          "base_uri": "https://localhost:8080/"
        },
        "id": "nY0B2OGx0-_N",
        "outputId": "f1f971a4-298b-4596-8416-48ee468033e0"
      },
      "execution_count": 11,
      "outputs": [
        {
          "output_type": "stream",
          "name": "stdout",
          "text": [
            "wttnt tnwwtwwtww wnhwntwawnntntwwwwwwttwwwtwnwwnnwntwwtwwwwwtwwtnnnnttwtwawwnwwntwwwwwnwwnwtnwwtwttnwntwnwwntwnttntttwwtww wwwwnwttwwtwntwwtwtwwttwtwwtwwwwnnwtwtttwwwtntwtwtwwtwnw\n",
            "                                                                                                                                                                                   \n",
            " ofd  yh                                                                                                                                                                           \n",
            "                                                                                                t     t                                                       t                    \n",
            " atada a aaa adaaa aaaaaaa aaada a aaaaaada aaaaa a a aaaaaaa taaaadaaadaaaa aaaadaaa aaaaataaaa adaaaadaaaad  aa aaaaa daa aaaaaa a adadaaaa aaaaaaaa adaaaaatadaaaa  aaaada daaaa\n",
            " ct ect cetceece ce cetce e cepct e  cetcepe ce ct ect ee t ete ce c tcecetce e ect ce cetctcepetcece cepetc ce cetce ece etcetc ce cete ce ceteece ectcc dce ce ce ceceteete ce ce\n",
            "  t t th k th t t   t t e e t ke  t  t th t  t ket        t  t    kt w  c th  t  kt t  t t  h k th k  t t th ke t t t   e hth    t  k th t  e t  ht e t t th  t    t  h t  t  ht e \n",
            "  t n t e     t   t t t t t t   t e    t  t     t      e  t e     tt n    t t t e t t   th  h   t e t t t the t t t t e e  t   t t e  t  t  t t   t e t t n   t   t t t t  t e t t \n",
            "  t n tont to tot n toe e s ton t n nt t  to  o nt n   n  tont nn nt nonnotne toe t n   u' ton  the   tnt uoe s t t t e e  ton t noen thnt n' uon toe t n e  tt  tttt woto t e t n \n",
            "  toe'tons toetot d tot ero toestod etot' to rs nt e   e' toetoe ert doenotnt woe todnstn' toensthe s tnt wo 's tht t e ensthent uoenstheton' ten thens d d  tte tntttfoth toens dr\n",
            "  t nst ds th t t d d d ers tonst d n' ta ro ke dt e t er toero ddmt d nk tad d dmt t std'stoer the s trt doe's tht d ther thert to r theron' aer thers d d tttnstastte tr toert d \n",
            " mt nstand thep t d d them  d nmt d e' ta ro k  dt   them themo memt d  k tad d dmt tm  ndsthem theka tnt do ks tht d them themt do k them ns t d themt d d t tn taatt  th t emthdm\n",
            " mtonatand th poa d dothep  donsthd  p to ro po pt   them toemo nent do p tnd donsthdm  nntthem toek  tnt do ka th  d them themo do p to pon, ton themt d d t tn taa t  tn themthem\n",
            "  tonstond toeaaa notothepe tonstod n' tn po pe pt   them to aoneept donn tnd tonstods   ntthe  toep  tnd to ps tht t them toeceethep toepon, pon toemtnd dst tn  na tn an toemthdm\n",
            "n tonstond thntua notot epe tonstodou' tneto pe pt   the  to ao eept donn tnd tonstods   ntthe  toec  tnd tonps tus thdhe  to ceetoe  to tont pon toe tnd es  in  ns tf an toe thdc\n",
            "n tonstond wo tot d tot ep, won't dou' t, po pee t   the  to co dect wo n tnd wonst ds   nsthem toep  tnd wo k' whi w the  toece the  to cent por toe thd es  wn  nsttu an toemthec\n",
            "n tonstond wo bus d dothep, wou't dou' t, posp e to  them to co eect wo p tod won't ds   nsthem toeks tnd woum' aus w them to co phem to cen' tor toe tod es  wn  nsttu au toemihec\n",
            "l toustond do bus d dothep, aon't dou' u, tosp e to  them to co eect do p and won't ds iunsthem togks tnd wonm' aus d them to co them to con' tor toe iud es iwn  nscty uu toemihsc\n",
            "gltoustond do tus d dothep, aon't dou' a, poepoe to  ther to co dest do p and don't dn ilnsthem toeks tnd donk, aus d ther to co ther to con' por toemtndles itn lnsctyoan themthic\n",
            "gltoustond to tutld dothep, don't d um aa p,epoe to  ther to co eert dorp and don't dosi n them theks tnd donk, aut d ther togco ther th con' for toemtndlesiitn  nsstyoan themthic\n",
            "gltoustont ao tutld dothep, don't doum aa p,epee to  ther to co eect donp and don't dosi n them tosks tnd do k, aut d them togco them to con' for toemtndlesiitn  nsstyoau themthic\n",
            "gltonstont to tutld dothip, don't doum ta p,epee to  them to co eest donp and don't dnsiln them thsks tnd do k, aut d t e  togco them to con' for toemtnd esiitn  nsstyoau themthic\n",
            "gltoustont to tutld dothip, don't doum ta p,eple tog them to co eect donp and don't dnsilnsthem thsks and wonk, aut dothe  tosco them th cont for the tndlesiiwn  nsityoau themthsc\n",
            "glwonstont to tusld dothip, don't doum tp poeple tog them to co  ect doop and don't dssiln them thsk' and wook, aut dothe  tosce ther th con' for the tndlesiiwn  nsityoau themthsc\n",
            "glwonstont to tusld dothip, don't doum tp poeple tog ther to co lect doop and don't dssiun them tosk' and wook, aus dathe  toace ther to bon' for the tndlesiiwn  nsityoau themthsc\n",
            "gmwoustont to tusld d thip, don't doum ap peeple tog ther to co lect doop and don't dsiiln them tosk  and wook, aus dathem toace ther to bon' for themiodless ip  nsity au themthsc\n",
            "gkwoustont to butld d thip, don't doum tp people to ether to co eect aoop and don't dssign them tosks and wook, aut dather tosch ther to bont for therindlesstip ensity au themihsc\n",
            "glwon tant to butld d ship, don't d um tp peeple th ether to col ect dorm and don't dseign them tosks and work, aut dathem tosch them to con' for themindlesc ip ensity au themihic\n",
            "glwou tant to butld aoship, don't doum ap people to ether to mo lect aord and won't dssign them tosks and work, aut aathem tooch ther to bong for the indlesc in enstty an themihsc\n",
            "gltou tant to butld dsship, don't doum fp people to ether to collect dood and don't dssign them toskt and wook, aut dathem tosch them to bong for themsndlesc idsenstty rn themihsc\n",
            "gtwou want to butld dsship, don't doum fp people to ether to collect dord andldon't dssign them tosks and dork, aut dathem to ch them to bong for themindless immensity af themihsc\n",
            "gttou want to butld dsship, don't doum up people together to collect dord and don't dssign them toskt and work, aut aathem toach them to bong for the indless idmensity bu themihsc\n",
            "gltou want to butld d ship, don't doum up people together to collect dood and don't dssign them toskt and wook, aut aathem toach them to bong for the sndless idmensity bu thems sc\n",
            "gltou want to butld d ship, don't drum up people to ether to collect dood and don't dssign them tosks and wook, aut aather toach the  to mong for the sndless immensity ou the s sc\n",
            "gltou want to butld a ship, don't drum up people to ether to collect dood and don't dssign them tosks and wook, aut aather toach the  to mong for the sndless immensity of the shsc\n",
            "gltou want to butld asship, don't drum up people together to collect dood and don't assign them tosks and wook, but aather toach the  to mong for the sndless immensity of themshsc\n",
            "glton want to butld a ship, don't drum up people together to collect dood and don't dssign the  tosks and wook, out dather toach the  to long for the sndless immensity of the sesc\n",
            "gttou want to butld a ship, don't arum up people together to collect wood and don't assign them tosks and work, but aather toach them to mong for the endless immensity of themsesc\n",
            "gltou want to butld a ship, don't arum up people together to collect word and don't assign them tosks and work, but aather toach them to mong for the endless immensity of themeesc\n",
            "lltou want to butld a ship, don't arum up people together to collect wood and don't assign them tosks and work, but aather toach them to long for the endless immensity of the eesc\n",
            "lltou want to butld a ship, don't drum up people together to collect word and don't dssign the  tosks and work, but aather toach the  to long for the endless idmensity of the eesc\n",
            "liyou want to butld a ship, don't drum up people together to collect word und don't dssign them tasks and work, but aather toach them to long for the endless immensity of the eesc\n",
            "l tou want to butld a ship, don't drum up people together to collect wood and don't dssign them tosks and work, but rather toach them to long for the endless immensity of themeesc\n",
            "m tou want to butld a ship, don't drum up people together to collect wood and don't dssign them tosks and work, but rather toach them to long for the endless immensity of the eesc\n",
            "p tou want to butld a ship, don't arum up people together to collect wood and won't assign them tosks and work, but aather teach them to long for themendless immensity of the eetm\n",
            "p tou want to butld a ship, don't arum up people together te collect wood and don't assign them tosks and dook, but rather teach them to long for the endless immensity of the eetm\n",
            "p you want to butld a ship, don't arum up people together to collect wood and won't assign them tasks and work, but rather teach ther to long for the endless immensity of the eetm\n",
            "p you want to butld a ship, don't arum up people together to collect wood and don't assign them tasks and dork, but rather teach them to long for the endless immensity of the seam\n",
            "p you want to butld a ship, don't arum up people together to collect wood and won't assign them tosks and work, but rather toach them to long for the endless immensity of the eetn\n",
            "p you want to butld a ship, don't drum up people together te collect wood and don't dssign them tasks and work, but rather teech them ta lnng for the sndless immensity of the sesc\n",
            "p you want to build a ship, don't arum up people together to collect wood and don't assign them tosks and wook, bui rather toach them to long for the endless immensity of the seac\n",
            "p you want to build a ship, don't arum up people together to collect wood and don't assign them tosks and wook, but rather toach them ta long for the endless immensity of the seam\n",
            "p tou want to butld a ship, don't drum up people together to collect wood and don't dssign them tasks and work, but rather toach them ta long for the endless immensity of the seam\n",
            "p tou want to build a ship, don't drum up people together to collect wood and don't dssign them tasks and work, but rather teach them ta long for the sndless immensity of the seac\n",
            "g you want to build a ship, don't arum up people together to collect wood and don't assign them tosks and work, but rather teach them to long for the endless immensity of the eeac\n",
            "g you want to build a ship, don't arum up people together to collect wood and don't assign them tosks and work, but rather teach them to long for the endless immensity of the seac\n",
            "g you want to build a ship, don't arum up people together to collect wood and don't assign them tasks and work, but rather teach them ta long for the endless immensity of the seam\n",
            "g you want to build a ship, don't drum up people together to collect wood and don't dssign them tasks and work, but rather teach them ta long for the endless immensity of the setm\n",
            "p you want to build a ship, don't drum up people together to collect wood and don't dssign them tasks and work, but rather teach them ta long for the endless immensity of the seam\n",
            "p you want to build a ship, don't arum up people together to collect wood and don't assign them tasks and work, but rather teach them to long for the endless immensity of the seam\n",
            "p you want to build a ship, don't arum up people together to collect wood and don't assign them tosks and work, but rather teach ther to long for the endless immensity of the sea.\n",
            "p you want to build a ship, don't drum up people together to collect wood and don't assign them tasks and work, but rather teach them to long for the endless immensity of the ses.\n",
            "p you want to build a ship, don't arum up people together to collect wood and don't assign them tasks and work, but rather teach them to long for the endless immensity of the sea.\n",
            "p you want to build a ship, don't arum up people together to collect wood and don't assign them tosks and work, but rather teach them to long for the endless immensity of the seac\n",
            "p you want to build a ship, don't drum up people together to collect wood and don't dssign them tasks and work, but rather teach them to long for the endless immensity of the seac\n",
            "g you want to build a ship, don't arum up people together to collect wood and don't assign them tosks and work, but rather teach them to long for the endless immensity of the sea.\n",
            "g you want to build a ship, don't arum up people together to collect wood and don't assign them tasks and work, but rather teach them to long for the endless immensity of the sea.\n",
            "g you want to build a ship, don't arum up people together to collect wood and don't assign them tasks and work, but rather teach them to long for the endless immensity of the sea.\n",
            "t you want to build a ship, don't arum up people together to collect wood and don't assign them tasks and work, but rather teach them to long for the endless immensity of the sea.\n",
            "p you want to build a ship, don't drum up people together to collect wood and don't dssign them tasks and work, but rather teach them to long for the endless immensity of the sea.\n",
            "g you want to build a ship, don't arum up people together to collect wood and don't assign them tasks and work, but rather teach them to long for the endless immensity of the sea.\n",
            "g you want to build a ship, don't arum up people together to collect wood and don't assign them tasks and work, but rather teach them to long for the endless immensity of the sea.\n",
            "g you want to build a ship, don't drum up people together to collect wood and don't dssign them tasks and work, but rather teach them to long for the endless immensity of the sea.\n",
            "g you want to build a ship, don't arum up people together to collect wood and don't assign them tasks and work, but rather teach them to long for the endless immensity of the sea.\n",
            "g you want to build a ship, don't drum up people together to collect wood and don't dssign them tasks and work, but rather teach them to long for the endless immensity of the sea.\n",
            "g you want to build a ship, don't arum up people together to collect wood and don't assign them tasks and work, but rather teach them to long for the endless immensity of the sea.\n",
            "g you want to build a ship, don't arum up people together to collect wood and don't assign them tasks and work, but rather teach them to long for the endless immensity of the sea.\n",
            "g you want to build a ship, don't drum up people together to collect wood and don't dssign them tasks and work, but rather teach them to long for the endless immensity of the sea.\n",
            "g you want to build a ship, don't arum up people together to collect wood and don't assign them tasks and work, but rather teach them to long for the endless immensity of the sea.\n",
            "p you want to build a ship, don't drum up people together to collect wood and don't dssign them tasks and work, but rather teach them to long for the endless immensity of the sea.\n",
            "p you want to build a ship, don't arum up people together to collect wood and don't assign them tasks and work, but rather teach them to long for the endless immensity of the sea.\n",
            "p you want to build a ship, don't drum up people together to collect wood and don't dssign them tasks and work, but rather teach them to long for the endless immensity of the sea.\n",
            "p you want to build a ship, don't arum up people together to collect wood and don't assign them tasks and work, but rather teach them to long for the endless immensity of the sea.\n",
            "p you want to build a ship, don't arum up people together to collect wood and don't assign them tasks and work, but rather teach them to long for the endless immensity of the sea.\n",
            "g you want to build a ship, don't drum up people together to collect wood and don't dssign them tasks and work, but rather teach them to long for the endless immensity of the sea.\n",
            "g you want to build a ship, don't arum up people together to collect wood and don't assign them tasks and work, but rather teach them to long for the endless immensity of the sea.\n",
            "g you want to build a ship, don't drum up people together to collect wood and don't dssign them tasks and work, but rather teach them to long for the endless immensity of the sea.\n",
            "f you want to build a ship, don't arum up people together to collect wood and don't assign them tasks and work, but rather teach them to long for the endless immensity of the sea.\n",
            "g you want to build a ship, don't arum up people together to collect wood and don't assign them tasks and work, but rather teach them to long for the endless immensity of the sea.\n",
            "g you want to build a ship, don't arum up people together to collect wood and don't assign them tasks and work, but rather teach them to long for the endless immensity of the sea.\n",
            "f you want to build a ship, don't arum up people together to collect wood and don't assign them tasks and work, but rather teach them to long for the endless immensity of the sea.\n",
            "g you want to build a ship, don't drum up people together te collect wood and don't dssign them tasks and work, but rather teach them to long for the endless immensity of the sea.\n",
            "t you want to build a ship, don't arum up people together to collect wood and don't assign them tasks and work, but rather toach them to long for the endless immensity of the sea.\n",
            "g yon want to build a ship, don't drum up penmle to ether to collect wood and don't dssign them thsks and work, but rathem toach them th mong for themend ess immensity of the sss.\n",
            "g youplant to builn a saip, don't arum up peoplerto ether to collect wood and won't assign the  lask, and work, bui rather toach ther ta long for tee endleos immlrsimy of the seoc\n",
            "g you wont to buildoa ship, ron't a am up people tonether to collect aorp and won't dssign the  tosks ant tork, bft tathe  toast the  to iorg for the sod ess immensity of the t ac\n",
            "glyoumwuot td build anship, drn't arum tp peuple togethen te co lech word andldon't ansign them tosks and dork, aut auther teach them ta long forpthemsndtessiil ensity af themsnam\n",
            "mlyogmwant go build wna ip, drn't wrum tp peuple wagrther th mollechodord dndldrn't wnsigndthem tasks wndlwork, but rather thaco woem ta mond fhg waemendless wmmensityoun toemesic\n",
            "p yo  want to busld enship, don't wrum tp people together to mollech wood a d don't wns gn tham tosksoand dora, but puther toach them to bood fo  themend ess im endity of themseac\n",
            "ptyou wa t to butld ass ep, don't dmum up pe ple t aetherkto col ect dood asd w n't dssign the  tosss and wo k, but aather toach them to boog tor t e end ess immensity of ahe s oc\n"
          ]
        }
      ]
    },
    {
      "cell_type": "code",
      "source": [],
      "metadata": {
        "id": "twMPKKT61DV_"
      },
      "execution_count": 11,
      "outputs": []
    }
  ]
}