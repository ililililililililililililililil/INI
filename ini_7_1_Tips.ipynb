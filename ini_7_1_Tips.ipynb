{
  "nbformat": 4,
  "nbformat_minor": 0,
  "metadata": {
    "colab": {
      "provenance": [],
      "authorship_tag": "ABX9TyNNtp5lhEZiNi1ZOYWGdrOX",
      "include_colab_link": true
    },
    "kernelspec": {
      "name": "python3",
      "display_name": "Python 3"
    },
    "language_info": {
      "name": "python"
    }
  },
  "cells": [
    {
      "cell_type": "markdown",
      "metadata": {
        "id": "view-in-github",
        "colab_type": "text"
      },
      "source": [
        "<a href=\"https://colab.research.google.com/github/ililililililililililililililil/INI/blob/ini_pytorch/ini_7_1_Tips.ipynb\" target=\"_parent\"><img src=\"https://colab.research.google.com/assets/colab-badge.svg\" alt=\"Open In Colab\"/></a>"
      ]
    },
    {
      "cell_type": "code",
      "execution_count": 1,
      "metadata": {
        "id": "TdeMnTN-xo8_"
      },
      "outputs": [],
      "source": [
        "##Maximum Likehood Estimation (MLE)\n",
        "\n",
        "#100번 실험했을 때 (n=100)\n",
        "#class1이 나올 확률이 27이면 (k=27)\n",
        "#확률분포를 결정하는 파라미터 값(세타)을 구할 수 있다. (구하는 방법은 다양)\n",
        "#위 세타에 대한 함수를 구할 수 있다 -> Likehood\n",
        "\n",
        "#Likehood y값이 최대가 되는 지점을 찾는다.\n",
        "#그 x값이 방금 관찰한 observation을 가장 잘 설명하는 세타이다.\n",
        "\n",
        "#Gradient Descent 알고리즘으로도 치대값을 구할 수 있다.\n",
        "#(이전에 배운 최소 찾는 내용과 같다)\n",
        "\n",
        "#Maximum Likehood Estimation은 숙명적으로 overfitting이 따른다.\n",
        "#overfitting 최소화: 훈련 데이터와 테스트 데이터를 나눠서 훈련 후에 얼마나 잘 학습되었는지 검증\n",
        "#테스트 데이터에 대해서도 overfitting되는 것을 막기 위해 Dev Set도 사용한다.\n",
        "#(트레이닝 셋으로 훈련하고 Dev(Validation Set)로 검증하고 테스트 셋에서 테스트한다)\n",
        "\n",
        "#그 외 overfitting 막기\n",
        "#- 데이터 많이 모으기\n",
        "#- features(특징) 적게 사용\n",
        "#- Regularization (Early Stoppint: Validation Loss가 더 이상 낮아지지 않을 때)"
      ]
    },
    {
      "cell_type": "code",
      "source": [
        "import torch\n",
        "import torch.nn as nn\n",
        "import torch.nn.functional as F\n",
        "import torch.optim as optim"
      ],
      "metadata": {
        "id": "lBcrPXGO1Z8M"
      },
      "execution_count": 2,
      "outputs": []
    },
    {
      "cell_type": "code",
      "source": [
        "# For reproducibility\n",
        "torch.manual_seed(1)"
      ],
      "metadata": {
        "colab": {
          "base_uri": "https://localhost:8080/"
        },
        "id": "yERpZB2y1kNZ",
        "outputId": "950d4059-9621-4eb5-ca4e-c82b6915de52"
      },
      "execution_count": 3,
      "outputs": [
        {
          "output_type": "execute_result",
          "data": {
            "text/plain": [
              "<torch._C.Generator at 0x7fda9d395970>"
            ]
          },
          "metadata": {},
          "execution_count": 3
        }
      ]
    },
    {
      "cell_type": "code",
      "source": [
        "# Training and Test Dataset\n",
        "\n",
        "x_train = torch.FloatTensor([[1, 2, 1],\n",
        "                             [1, 3, 2],\n",
        "                             [1, 3, 4],\n",
        "                             [1, 5, 5],\n",
        "                             [1, 7, 5],\n",
        "                             [1, 2, 5],\n",
        "                             [1, 6, 6],\n",
        "                             [1, 7, 7]\n",
        "                             ])\n",
        "y_train = torch.LongTensor([2, 2, 2, 1, 1, 1, 0, 0])"
      ],
      "metadata": {
        "id": "9FFghBkN1qI5"
      },
      "execution_count": 4,
      "outputs": []
    },
    {
      "cell_type": "code",
      "source": [
        "x_test = torch.FloatTensor([[2, 1, 1], [3, 1, 2], [3, 3, 4]])\n",
        "y_test = torch.LongTensor([2, 2, 2])"
      ],
      "metadata": {
        "id": "iaXHQcYf2H5e"
      },
      "execution_count": 5,
      "outputs": []
    },
    {
      "cell_type": "code",
      "source": [
        "#Model\n",
        "\n",
        "class SoftmaxClassifierModel(nn.Module):\n",
        "  def __init__(self):\n",
        "    super().__init__()\n",
        "    self.linear = nn.Linear(3, 3)\n",
        "  def forward(self, x):\n",
        "    return self.linear(x)"
      ],
      "metadata": {
        "id": "AccWZlac2Qtv"
      },
      "execution_count": 8,
      "outputs": []
    },
    {
      "cell_type": "code",
      "source": [
        "model = SoftmaxClassifierModel()"
      ],
      "metadata": {
        "id": "CnuFs8tT2pyg"
      },
      "execution_count": 9,
      "outputs": []
    },
    {
      "cell_type": "code",
      "source": [
        "# optimizer 설정\n",
        "optimizer = optim.SGD(model.parameters(), lr=0.1)"
      ],
      "metadata": {
        "id": "RVE5pjwm2xr7"
      },
      "execution_count": 10,
      "outputs": []
    },
    {
      "cell_type": "code",
      "source": [
        "# Training\n",
        "\n",
        "def train(model, optimizer, x_train, y_train):\n",
        "  nb_epochs = 20\n",
        "  for epoch in range(nb_epochs):\n",
        "\n",
        "    # H(x) 계산\n",
        "    prediction = model(x_train)\n",
        "\n",
        "    # cost 계산\n",
        "    cost = F.cross_entropy(prediction, y_train)\n",
        "\n",
        "    # cost로 H(x) 계산\n",
        "    optimizer.zero_grad()\n",
        "    cost.backward()\n",
        "    optimizer.step()\n",
        "\n",
        "    print('Epoch {:4d}/{} Cost: {:.6f}'.format(\n",
        "        epoch, nb_epochs, cost.item()\n",
        "    ))"
      ],
      "metadata": {
        "id": "eK2ly1SO25qX"
      },
      "execution_count": 15,
      "outputs": []
    },
    {
      "cell_type": "code",
      "source": [
        "# Test (Validation)\n",
        "\n",
        "def test(model, optimizer, x_test, y_test):\n",
        "  prediction = model(x_test)\n",
        "  predicted_classes = prediction.max(1)[1]\n",
        "  correct_count = (predicted_classes == y_test).sum().item()\n",
        "  cost = F.cross_entropy(prediction, y_test)\n",
        "\n",
        "  print('Accuracy: {}% Cost: {:.6f}'.format(\n",
        "        correct_count / len(y_test) * 100, cost.item()\n",
        "    ))"
      ],
      "metadata": {
        "id": "6vXQ79Q33o88"
      },
      "execution_count": 16,
      "outputs": []
    },
    {
      "cell_type": "code",
      "source": [
        "# Run\n",
        "\n",
        "train(model, optimizer, x_train, y_train)"
      ],
      "metadata": {
        "colab": {
          "base_uri": "https://localhost:8080/"
        },
        "id": "HJ_6SEn-4YpW",
        "outputId": "9c76a01b-9132-4860-cc1d-1297953132f8"
      },
      "execution_count": 17,
      "outputs": [
        {
          "output_type": "stream",
          "name": "stdout",
          "text": [
            "Epoch    0/20 Cost: 1.199645\n",
            "Epoch    1/20 Cost: 1.142985\n",
            "Epoch    2/20 Cost: 1.117769\n",
            "Epoch    3/20 Cost: 1.100901\n",
            "Epoch    4/20 Cost: 1.089523\n",
            "Epoch    5/20 Cost: 1.079872\n",
            "Epoch    6/20 Cost: 1.071320\n",
            "Epoch    7/20 Cost: 1.063325\n",
            "Epoch    8/20 Cost: 1.055720\n",
            "Epoch    9/20 Cost: 1.048377\n",
            "Epoch   10/20 Cost: 1.041245\n",
            "Epoch   11/20 Cost: 1.034285\n",
            "Epoch   12/20 Cost: 1.027478\n",
            "Epoch   13/20 Cost: 1.020813\n",
            "Epoch   14/20 Cost: 1.014279\n",
            "Epoch   15/20 Cost: 1.007872\n",
            "Epoch   16/20 Cost: 1.001586\n",
            "Epoch   17/20 Cost: 0.995419\n",
            "Epoch   18/20 Cost: 0.989365\n",
            "Epoch   19/20 Cost: 0.983424\n"
          ]
        }
      ]
    },
    {
      "cell_type": "code",
      "source": [
        "test(model, optimizer, x_test, y_test)"
      ],
      "metadata": {
        "colab": {
          "base_uri": "https://localhost:8080/"
        },
        "id": "fWyuQ29q4fIc",
        "outputId": "92930cfb-a6bc-47e6-c07f-06a7fd11ab89"
      },
      "execution_count": 18,
      "outputs": [
        {
          "output_type": "stream",
          "name": "stdout",
          "text": [
            "Accuracy: 0.0% Cost: 1.386150\n"
          ]
        }
      ]
    },
    {
      "cell_type": "code",
      "source": [
        "# Learning Rate\n",
        "# Learning Rate이 너무 크면 diverge 하면서 cost가 점점 늘어난다 (overshooting)\n",
        "\n",
        "model = SoftmaxClassifierModel()"
      ],
      "metadata": {
        "id": "xE13S3VZ4zTN"
      },
      "execution_count": 19,
      "outputs": []
    },
    {
      "cell_type": "code",
      "source": [
        "optimizer = optim.SGD(model.parameters(), lr=1e5)"
      ],
      "metadata": {
        "id": "VKEf9moy455k"
      },
      "execution_count": 21,
      "outputs": []
    },
    {
      "cell_type": "code",
      "source": [
        "train(model, optimizer, x_train, y_train)"
      ],
      "metadata": {
        "colab": {
          "base_uri": "https://localhost:8080/"
        },
        "id": "CAbLBbf_5Ax3",
        "outputId": "860bb0a7-c77f-4ae5-f307-fea1f6f92423"
      },
      "execution_count": 22,
      "outputs": [
        {
          "output_type": "stream",
          "name": "stdout",
          "text": [
            "Epoch    0/20 Cost: 1.280268\n",
            "Epoch    1/20 Cost: 976950.750000\n",
            "Epoch    2/20 Cost: 1279135.250000\n",
            "Epoch    3/20 Cost: 1198378.875000\n",
            "Epoch    4/20 Cost: 1098825.750000\n",
            "Epoch    5/20 Cost: 1968197.750000\n",
            "Epoch    6/20 Cost: 284763.250000\n",
            "Epoch    7/20 Cost: 1532260.250000\n",
            "Epoch    8/20 Cost: 1651503.750000\n",
            "Epoch    9/20 Cost: 521878.593750\n",
            "Epoch   10/20 Cost: 1397263.250000\n",
            "Epoch   11/20 Cost: 750986.375000\n",
            "Epoch   12/20 Cost: 918691.375000\n",
            "Epoch   13/20 Cost: 1487888.250000\n",
            "Epoch   14/20 Cost: 1582260.250000\n",
            "Epoch   15/20 Cost: 685818.125000\n",
            "Epoch   16/20 Cost: 1140048.875000\n",
            "Epoch   17/20 Cost: 940566.375000\n",
            "Epoch   18/20 Cost: 931638.250000\n",
            "Epoch   19/20 Cost: 1971322.750000\n"
          ]
        }
      ]
    },
    {
      "cell_type": "code",
      "source": [
        "# Learning Rate\n",
        "# Learning Rate이 너무 작으면 cost가 거의 줄어들지 않는다\n",
        "\n",
        "model = SoftmaxClassifierModel()"
      ],
      "metadata": {
        "id": "S8ZCzkVv5G7S"
      },
      "execution_count": 23,
      "outputs": []
    },
    {
      "cell_type": "code",
      "source": [
        "optimizer = optim.SGD(model.parameters(), lr=1e-10)"
      ],
      "metadata": {
        "id": "9PkRlThz5NNp"
      },
      "execution_count": 24,
      "outputs": []
    },
    {
      "cell_type": "code",
      "source": [
        "train(model, optimizer, x_train, y_train)"
      ],
      "metadata": {
        "colab": {
          "base_uri": "https://localhost:8080/"
        },
        "id": "u4rWTAL45RVa",
        "outputId": "76a09d19-c477-4e0b-f7b3-f6f0245dd97b"
      },
      "execution_count": 25,
      "outputs": [
        {
          "output_type": "stream",
          "name": "stdout",
          "text": [
            "Epoch    0/20 Cost: 3.187324\n",
            "Epoch    1/20 Cost: 3.187324\n",
            "Epoch    2/20 Cost: 3.187324\n",
            "Epoch    3/20 Cost: 3.187324\n",
            "Epoch    4/20 Cost: 3.187324\n",
            "Epoch    5/20 Cost: 3.187324\n",
            "Epoch    6/20 Cost: 3.187324\n",
            "Epoch    7/20 Cost: 3.187324\n",
            "Epoch    8/20 Cost: 3.187324\n",
            "Epoch    9/20 Cost: 3.187324\n",
            "Epoch   10/20 Cost: 3.187324\n",
            "Epoch   11/20 Cost: 3.187324\n",
            "Epoch   12/20 Cost: 3.187324\n",
            "Epoch   13/20 Cost: 3.187324\n",
            "Epoch   14/20 Cost: 3.187324\n",
            "Epoch   15/20 Cost: 3.187324\n",
            "Epoch   16/20 Cost: 3.187324\n",
            "Epoch   17/20 Cost: 3.187324\n",
            "Epoch   18/20 Cost: 3.187324\n",
            "Epoch   19/20 Cost: 3.187324\n"
          ]
        }
      ]
    },
    {
      "cell_type": "code",
      "source": [
        "# Learning Rate\n",
        "#적절한 숫자로 시작해 발산하면 작게, cost가 줄어들지 않으면 크게 조정하자\n",
        "\n",
        "model = SoftmaxClassifierModel()"
      ],
      "metadata": {
        "id": "mJcvhPDJ5T3y"
      },
      "execution_count": 26,
      "outputs": []
    },
    {
      "cell_type": "code",
      "source": [
        "optimizer = optim.SGD(model.parameters(), lr=1e-1)"
      ],
      "metadata": {
        "id": "DDqxEpH-5X92"
      },
      "execution_count": 27,
      "outputs": []
    },
    {
      "cell_type": "code",
      "source": [
        "train(model, optimizer, x_train, y_train)"
      ],
      "metadata": {
        "colab": {
          "base_uri": "https://localhost:8080/"
        },
        "id": "OK8BpeYr5bIc",
        "outputId": "f7c1fc69-0440-48af-afb8-6aa0609c7528"
      },
      "execution_count": 28,
      "outputs": [
        {
          "output_type": "stream",
          "name": "stdout",
          "text": [
            "Epoch    0/20 Cost: 1.341574\n",
            "Epoch    1/20 Cost: 1.198802\n",
            "Epoch    2/20 Cost: 1.150877\n",
            "Epoch    3/20 Cost: 1.131977\n",
            "Epoch    4/20 Cost: 1.116242\n",
            "Epoch    5/20 Cost: 1.102514\n",
            "Epoch    6/20 Cost: 1.089676\n",
            "Epoch    7/20 Cost: 1.077479\n",
            "Epoch    8/20 Cost: 1.065775\n",
            "Epoch    9/20 Cost: 1.054511\n",
            "Epoch   10/20 Cost: 1.043655\n",
            "Epoch   11/20 Cost: 1.033187\n",
            "Epoch   12/20 Cost: 1.023091\n",
            "Epoch   13/20 Cost: 1.013356\n",
            "Epoch   14/20 Cost: 1.003968\n",
            "Epoch   15/20 Cost: 0.994917\n",
            "Epoch   16/20 Cost: 0.986189\n",
            "Epoch   17/20 Cost: 0.977775\n",
            "Epoch   18/20 Cost: 0.969661\n",
            "Epoch   19/20 Cost: 0.961836\n"
          ]
        }
      ]
    },
    {
      "cell_type": "code",
      "source": [
        "# Data Preprocessing (데이터 전처리)\n",
        "\n",
        "x_train = torch.FloatTensor([[73, 80, 75],\n",
        "                             [93, 88, 93],\n",
        "                             [89, 91, 90],\n",
        "                             [96, 98, 100],\n",
        "                             [73, 66, 70]\n",
        "                             ])\n",
        "y_train = torch.FloatTensor([[152], [185], [180], [196], [142]])"
      ],
      "metadata": {
        "id": "3qhUAAcJ5cra"
      },
      "execution_count": 29,
      "outputs": []
    },
    {
      "cell_type": "code",
      "source": [
        "mu = x_train.mean(dim=0)"
      ],
      "metadata": {
        "id": "26wP3MBP6Fhg"
      },
      "execution_count": 30,
      "outputs": []
    },
    {
      "cell_type": "code",
      "source": [
        "sigma = x_train.std(dim=0)"
      ],
      "metadata": {
        "id": "rzWWllNu6J_e"
      },
      "execution_count": 31,
      "outputs": []
    },
    {
      "cell_type": "code",
      "source": [
        "norm_x_train = (x_train - mu) / sigma"
      ],
      "metadata": {
        "id": "4abQQwbg6Ml4"
      },
      "execution_count": 32,
      "outputs": []
    },
    {
      "cell_type": "code",
      "source": [
        "print(norm_x_train)"
      ],
      "metadata": {
        "colab": {
          "base_uri": "https://localhost:8080/"
        },
        "id": "l460_wwI6QTO",
        "outputId": "5ca538eb-54c3-4e87-d6fb-b110ecdd5487"
      },
      "execution_count": 33,
      "outputs": [
        {
          "output_type": "stream",
          "name": "stdout",
          "text": [
            "tensor([[-1.0674, -0.3758, -0.8398],\n",
            "        [ 0.7418,  0.2778,  0.5863],\n",
            "        [ 0.3799,  0.5229,  0.3486],\n",
            "        [ 1.0132,  1.0948,  1.1409],\n",
            "        [-1.0674, -1.5197, -1.2360]])\n"
          ]
        }
      ]
    },
    {
      "cell_type": "code",
      "source": [
        "# Training with Preprocessed Data\n",
        "\n",
        "class MultivariateLinearRegressionModel(nn.Module):\n",
        "  def __init__(self):\n",
        "    super().__init__()\n",
        "    self.linear = nn.Linear(3, 1)\n",
        "  \n",
        "  def forward(self, x):\n",
        "    return self.linear(x)"
      ],
      "metadata": {
        "id": "DNgjriqq6SZV"
      },
      "execution_count": 34,
      "outputs": []
    },
    {
      "cell_type": "code",
      "source": [
        "model = MultivariateLinearRegressionModel()"
      ],
      "metadata": {
        "id": "JTjZ4vW_6sJA"
      },
      "execution_count": 35,
      "outputs": []
    },
    {
      "cell_type": "code",
      "source": [
        "optimizer = optim.SGD(model.parameters(), lr=1e-1)"
      ],
      "metadata": {
        "id": "B42D7ESx6vVK"
      },
      "execution_count": 36,
      "outputs": []
    },
    {
      "cell_type": "code",
      "source": [
        "def train(model, optimizer, x_train, y_train):\n",
        "  nb_epochs = 20\n",
        "  for epoch in range(nb_epochs):\n",
        "\n",
        "    # H(x) 계산\n",
        "    prediction = model(x_train)\n",
        "\n",
        "    # cost 계산\n",
        "    cost = F.mse_loss(prediction, y_train)\n",
        "\n",
        "    # cost로 H(x) 계산\n",
        "    optimizer.zero_grad()\n",
        "    cost.backward()\n",
        "    optimizer.step()\n",
        "\n",
        "    print('Epoch {:4d}/{} Cost: {:.6f}'.format(\n",
        "        epoch, nb_epochs, cost.item()\n",
        "    ))"
      ],
      "metadata": {
        "id": "Z5XQmD6H61NL"
      },
      "execution_count": 37,
      "outputs": []
    },
    {
      "cell_type": "code",
      "source": [
        "train(model, optimizer, norm_x_train, y_train)"
      ],
      "metadata": {
        "colab": {
          "base_uri": "https://localhost:8080/"
        },
        "id": "E4X8ngiB7CzQ",
        "outputId": "9e0379d6-2ccf-4efe-ee0a-b4621826ec60"
      },
      "execution_count": 38,
      "outputs": [
        {
          "output_type": "stream",
          "name": "stdout",
          "text": [
            "Epoch    0/20 Cost: 29785.089844\n",
            "Epoch    1/20 Cost: 18906.166016\n",
            "Epoch    2/20 Cost: 12054.673828\n",
            "Epoch    3/20 Cost: 7702.029785\n",
            "Epoch    4/20 Cost: 4925.733398\n",
            "Epoch    5/20 Cost: 3151.632812\n",
            "Epoch    6/20 Cost: 2016.996094\n",
            "Epoch    7/20 Cost: 1291.051270\n",
            "Epoch    8/20 Cost: 826.505249\n",
            "Epoch    9/20 Cost: 529.207397\n",
            "Epoch   10/20 Cost: 338.934174\n",
            "Epoch   11/20 Cost: 217.153564\n",
            "Epoch   12/20 Cost: 139.206757\n",
            "Epoch   13/20 Cost: 89.313782\n",
            "Epoch   14/20 Cost: 57.375465\n",
            "Epoch   15/20 Cost: 36.928429\n",
            "Epoch   16/20 Cost: 23.835773\n",
            "Epoch   17/20 Cost: 15.450401\n",
            "Epoch   18/20 Cost: 10.077809\n",
            "Epoch   19/20 Cost: 6.633700\n"
          ]
        }
      ]
    },
    {
      "cell_type": "code",
      "source": [],
      "metadata": {
        "id": "Q2B_EVOa7IOO"
      },
      "execution_count": null,
      "outputs": []
    }
  ]
}