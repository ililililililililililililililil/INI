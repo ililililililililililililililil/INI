{
  "nbformat": 4,
  "nbformat_minor": 0,
  "metadata": {
    "colab": {
      "provenance": [],
      "authorship_tag": "ABX9TyO6t5GnU8AkRarL48s+5lsf",
      "include_colab_link": true
    },
    "kernelspec": {
      "name": "python3",
      "display_name": "Python 3"
    },
    "language_info": {
      "name": "python"
    }
  },
  "cells": [
    {
      "cell_type": "markdown",
      "metadata": {
        "id": "view-in-github",
        "colab_type": "text"
      },
      "source": [
        "<a href=\"https://colab.research.google.com/github/ililililililililililililililil/INI/blob/ini_pytorch/ini_4_1_Multivariable_Linear_regression.ipynb\" target=\"_parent\"><img src=\"https://colab.research.google.com/assets/colab-badge.svg\" alt=\"Open In Colab\"/></a>"
      ]
    },
    {
      "cell_type": "code",
      "execution_count": 13,
      "metadata": {
        "id": "MYs16_k9VeOc"
      },
      "outputs": [],
      "source": [
        "import torch\n",
        "import torch.nn as nn\n",
        "import torch.nn.functional as F"
      ]
    },
    {
      "cell_type": "code",
      "source": [
        "class MultivariateLinearRegressionModel(nn.Module):\n",
        "    def __init__(self):\n",
        "        super().__init__()\n",
        "        self.linear = nn.Linear(3, 1)\n",
        "        \n",
        "    def forward(self, x):\n",
        "        return self.linear(x)"
      ],
      "metadata": {
        "id": "BTvp07SE6v1O"
      },
      "execution_count": 14,
      "outputs": []
    },
    {
      "cell_type": "code",
      "source": [
        "# 데이터\n",
        "\n",
        "x_train = torch.FloatTensor([[73, 80, 75],\n",
        "                             [93, 88, 93],\n",
        "                             [89, 91, 90],\n",
        "                             [96, 98, 100],\n",
        "                             [73, 66, 70]])\n",
        "y_train = torch.FloatTensor([[152], [185], [180], [196], [142]])"
      ],
      "metadata": {
        "id": "-vfGOBCUVpb-"
      },
      "execution_count": 22,
      "outputs": []
    },
    {
      "cell_type": "code",
      "source": [
        "# 모델초기화\n",
        "\n",
        "model = MultivariateLinearRegressionModel()"
      ],
      "metadata": {
        "id": "PNgiHJHOV_gS"
      },
      "execution_count": 23,
      "outputs": []
    },
    {
      "cell_type": "code",
      "source": [
        "# optimizer 설정\n",
        "optimizer = torch.optim.SGD(model.parameters(), lr=1e-5) #강의자료 코드에서 torch 추가"
      ],
      "metadata": {
        "id": "sEmrjWjU27Im"
      },
      "execution_count": 24,
      "outputs": []
    },
    {
      "cell_type": "code",
      "source": [
        "nb_epochs = 20\n",
        "for epoch in range(nb_epochs + 1):\n",
        "  # H(x) 계산\n",
        "  Hypothesis = model(x_train)\n",
        "\n",
        "  # cost 계산\n",
        "  cost = F.mse_loss(Hypothesis, y_train) #강의자료 prediction -> Hypothesis\n",
        "\n",
        "  # cost로 H(x) 개선\n",
        "  optimizer.zero_grad()\n",
        "  cost.backward()\n",
        "  optimizer.step()\n",
        "    \n",
        "  print('Epoch {:4d}/{} hypothesis: {}, Cost: {:.6f}'.format(\n",
        "        epoch, nb_epochs, Hypothesis.squeeze().detach(), cost.item()\n",
        "        ))"
      ],
      "metadata": {
        "colab": {
          "base_uri": "https://localhost:8080/"
        },
        "id": "pjLE7m493swI",
        "outputId": "4342f789-8c16-4fd0-c868-8f015878e902"
      },
      "execution_count": 25,
      "outputs": [
        {
          "output_type": "stream",
          "name": "stdout",
          "text": [
            "Epoch    0/20 hypothesis: tensor([-44.4474, -52.7926, -52.3493, -56.9993, -40.1026]), Cost: 49258.617188\n",
            "Epoch    1/20 hypothesis: tensor([42.2274, 51.3848, 50.2981, 54.7812, 39.3586]), Cost: 15440.724609\n",
            "Epoch    2/20 hypothesis: tensor([ 90.7533, 109.7100, 107.7666, 117.3629,  83.8462]), Cost: 4840.613770\n",
            "Epoch    3/20 hypothesis: tensor([117.9211, 142.3642, 139.9410, 152.4001, 108.7533]), Cost: 1518.040771\n",
            "Epoch    4/20 hypothesis: tensor([133.1311, 160.6462, 157.9543, 172.0160, 122.6980]), Cost: 476.590332\n",
            "Epoch    5/20 hypothesis: tensor([141.6465, 170.8817, 168.0392, 182.9983, 130.5052]), Cost: 150.150970\n",
            "Epoch    6/20 hypothesis: tensor([146.4139, 176.6123, 173.6853, 189.1468, 134.8764]), Cost: 47.829113\n",
            "Epoch    7/20 hypothesis: tensor([149.0827, 179.8208, 176.8463, 192.5891, 137.3238]), Cost: 15.756352\n",
            "Epoch    8/20 hypothesis: tensor([150.5768, 181.6172, 178.6160, 194.5162, 138.6941]), Cost: 5.702909\n",
            "Epoch    9/20 hypothesis: tensor([151.4132, 182.6230, 179.6067, 195.5951, 139.4615]), Cost: 2.551395\n",
            "Epoch   10/20 hypothesis: tensor([151.8812, 183.1863, 180.1614, 196.1991, 139.8913]), Cost: 1.563243\n",
            "Epoch   11/20 hypothesis: tensor([152.1431, 183.5017, 180.4719, 196.5373, 140.1320]), Cost: 1.253217\n",
            "Epoch   12/20 hypothesis: tensor([152.2896, 183.6784, 180.6456, 196.7265, 140.2669]), Cost: 1.155748\n",
            "Epoch   13/20 hypothesis: tensor([152.3715, 183.7775, 180.7429, 196.8324, 140.3426]), Cost: 1.124873\n",
            "Epoch   14/20 hypothesis: tensor([152.4172, 183.8330, 180.7973, 196.8917, 140.3851]), Cost: 1.114907\n",
            "Epoch   15/20 hypothesis: tensor([152.4426, 183.8642, 180.8277, 196.9248, 140.4091]), Cost: 1.111479\n",
            "Epoch   16/20 hypothesis: tensor([152.4567, 183.8818, 180.8447, 196.9433, 140.4226]), Cost: 1.110100\n",
            "Epoch   17/20 hypothesis: tensor([152.4644, 183.8917, 180.8541, 196.9537, 140.4303]), Cost: 1.109383\n",
            "Epoch   18/20 hypothesis: tensor([152.4686, 183.8974, 180.8594, 196.9594, 140.4348]), Cost: 1.108835\n",
            "Epoch   19/20 hypothesis: tensor([152.4708, 183.9007, 180.8623, 196.9626, 140.4375]), Cost: 1.108363\n",
            "Epoch   20/20 hypothesis: tensor([152.4719, 183.9026, 180.8639, 196.9643, 140.4391]), Cost: 1.107914\n"
          ]
        }
      ]
    },
    {
      "cell_type": "code",
      "source": [],
      "metadata": {
        "id": "9Y1J3kmxYwuh"
      },
      "execution_count": 22,
      "outputs": []
    }
  ]
}