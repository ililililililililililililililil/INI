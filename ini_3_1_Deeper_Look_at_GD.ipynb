{
  "nbformat": 4,
  "nbformat_minor": 0,
  "metadata": {
    "colab": {
      "provenance": [],
      "authorship_tag": "ABX9TyMpmfumktdP1KPcizG4U30C",
      "include_colab_link": true
    },
    "kernelspec": {
      "name": "python3",
      "display_name": "Python 3"
    },
    "language_info": {
      "name": "python"
    }
  },
  "cells": [
    {
      "cell_type": "markdown",
      "metadata": {
        "id": "view-in-github",
        "colab_type": "text"
      },
      "source": [
        "<a href=\"https://colab.research.google.com/github/ililililililililililililililil/INI/blob/ini_pytorch/ini_3_1_Deeper_Look_at_GD.ipynb\" target=\"_parent\"><img src=\"https://colab.research.google.com/assets/colab-badge.svg\" alt=\"Open In Colab\"/></a>"
      ]
    },
    {
      "cell_type": "code",
      "execution_count": 1,
      "metadata": {
        "id": "tztjN8IBQ_Hq"
      },
      "outputs": [],
      "source": [
        "import torch"
      ]
    },
    {
      "cell_type": "code",
      "source": [
        "# 데이터\n",
        "\n",
        "x_train = torch.FloatTensor([[1], [2], [3]])\n",
        "y_train = torch.FloatTensor([[1], [2], [3]])"
      ],
      "metadata": {
        "id": "LWJsOwaGS1my"
      },
      "execution_count": 2,
      "outputs": []
    },
    {
      "cell_type": "code",
      "source": [
        "# 모델 초기화\n",
        "\n",
        "W = torch.zeros(1, requires_grad = True)"
      ],
      "metadata": {
        "id": "S50e20f8TASr"
      },
      "execution_count": 3,
      "outputs": []
    },
    {
      "cell_type": "code",
      "source": [
        "# optimizer 설정\n",
        "\n",
        "optimizer = torch.optim.SGD([W], lr = 0.15)"
      ],
      "metadata": {
        "id": "MyLRev_VTHC-"
      },
      "execution_count": 4,
      "outputs": []
    },
    {
      "cell_type": "code",
      "source": [
        "nb_epochs = 10\n",
        "for epoch in range(nb_epochs + 1):\n",
        "  \n",
        "  # H(x) 계산\n",
        "  hypothesis = x_train * W\n",
        "\n",
        "  # cost 계산\n",
        "  cost = torch.mean((hypothesis - y_train) ** 2)\n",
        "\n",
        "  print('Epoch {:4d}/{} W: {:.3f} Cost: {:.6f}'.format(epoch, nb_epochs, W.item(), cost.item()\n",
        "  ))\n",
        "\n",
        "  # cost로 H(x) 개선\n",
        "  optimizer.zero_grad()\n",
        "  cost.backward()\n",
        "  optimizer.step()"
      ],
      "metadata": {
        "colab": {
          "base_uri": "https://localhost:8080/"
        },
        "id": "JVwOKThLTRDG",
        "outputId": "c5652799-4f45-4786-830e-5e8197471f7c"
      },
      "execution_count": 5,
      "outputs": [
        {
          "output_type": "stream",
          "name": "stdout",
          "text": [
            "Epoch    0/10 W: 0.000 Cost: 4.666667\n",
            "Epoch    1/10 W: 1.400 Cost: 0.746667\n",
            "Epoch    2/10 W: 0.840 Cost: 0.119467\n",
            "Epoch    3/10 W: 1.064 Cost: 0.019115\n",
            "Epoch    4/10 W: 0.974 Cost: 0.003058\n",
            "Epoch    5/10 W: 1.010 Cost: 0.000489\n",
            "Epoch    6/10 W: 0.996 Cost: 0.000078\n",
            "Epoch    7/10 W: 1.002 Cost: 0.000013\n",
            "Epoch    8/10 W: 0.999 Cost: 0.000002\n",
            "Epoch    9/10 W: 1.000 Cost: 0.000000\n",
            "Epoch   10/10 W: 1.000 Cost: 0.000000\n"
          ]
        }
      ]
    },
    {
      "cell_type": "code",
      "source": [],
      "metadata": {
        "id": "1MHgAoUuUcfn"
      },
      "execution_count": null,
      "outputs": []
    }
  ]
}