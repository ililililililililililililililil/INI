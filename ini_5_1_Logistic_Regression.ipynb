{
  "nbformat": 4,
  "nbformat_minor": 0,
  "metadata": {
    "colab": {
      "provenance": [],
      "authorship_tag": "ABX9TyODai001Uf404hLIdhdSdSv",
      "include_colab_link": true
    },
    "kernelspec": {
      "name": "python3",
      "display_name": "Python 3"
    },
    "language_info": {
      "name": "python"
    }
  },
  "cells": [
    {
      "cell_type": "markdown",
      "metadata": {
        "id": "view-in-github",
        "colab_type": "text"
      },
      "source": [
        "<a href=\"https://colab.research.google.com/github/ililililililililililililililil/INI/blob/ini_pytorch/ini_5_1_Logistic_Regression.ipynb\" target=\"_parent\"><img src=\"https://colab.research.google.com/assets/colab-badge.svg\" alt=\"Open In Colab\"/></a>"
      ]
    },
    {
      "cell_type": "code",
      "execution_count": 2,
      "metadata": {
        "id": "HpCWMDudJxc9"
      },
      "outputs": [],
      "source": [
        "import torch\n",
        "import torch.nn as nn\n",
        "import torch.nn.functional as F\n",
        "import torch.optim as optim"
      ]
    },
    {
      "cell_type": "code",
      "source": [
        "# Training Data\n",
        "\n",
        "x_data = [[1, 2], [2, 3], [3, 1], [4, 3], [5, 3], [6, 2]]\n",
        "y_data = [[0], [0], [0], [1], [1], [1]]"
      ],
      "metadata": {
        "id": "RPpwP0cjLvaL"
      },
      "execution_count": 4,
      "outputs": []
    },
    {
      "cell_type": "code",
      "source": [
        "x_train = torch.FloatTensor(x_data)\n",
        "y_train = torch.FloatTensor(y_data)"
      ],
      "metadata": {
        "id": "WohY9HTYMBJY"
      },
      "execution_count": 5,
      "outputs": []
    },
    {
      "cell_type": "code",
      "source": [
        "print(x_train.shape)\n",
        "print(y_train.shape)"
      ],
      "metadata": {
        "colab": {
          "base_uri": "https://localhost:8080/"
        },
        "id": "XbcssK29MNVJ",
        "outputId": "47d7c106-8c6e-4ade-9a87-158b64b68c03"
      },
      "execution_count": 6,
      "outputs": [
        {
          "output_type": "stream",
          "name": "stdout",
          "text": [
            "torch.Size([6, 2])\n",
            "torch.Size([6, 1])\n"
          ]
        }
      ]
    },
    {
      "cell_type": "code",
      "source": [
        "# Computing the Hypothesis (1)\n",
        "\n",
        "print('e^1 equals: ', torch.exp(torch.FloatTensor([1])))"
      ],
      "metadata": {
        "colab": {
          "base_uri": "https://localhost:8080/"
        },
        "id": "fWB8KvZqMVUo",
        "outputId": "8aab6b42-7fe1-433b-988f-a8d62d598956"
      },
      "execution_count": 8,
      "outputs": [
        {
          "output_type": "stream",
          "name": "stdout",
          "text": [
            "e^1 equals:  tensor([2.7183])\n"
          ]
        }
      ]
    },
    {
      "cell_type": "code",
      "source": [
        "W = torch.zeros((2, 1), requires_grad=True)\n",
        "b = torch.zeros(1, requires_grad=True)"
      ],
      "metadata": {
        "id": "9QANtS8FMkuT"
      },
      "execution_count": 9,
      "outputs": []
    },
    {
      "cell_type": "code",
      "source": [
        "hypothesis = 1 / (1 + torch.exp(-(x_train.matmul(W) + b))) #x_train.matmul(W): X*W"
      ],
      "metadata": {
        "id": "4iH_N1kvMxTA"
      },
      "execution_count": 10,
      "outputs": []
    },
    {
      "cell_type": "code",
      "source": [
        "print(hypothesis)\n",
        "print(hypothesis.shape)"
      ],
      "metadata": {
        "colab": {
          "base_uri": "https://localhost:8080/"
        },
        "id": "ieRqeJcdM7pg",
        "outputId": "72d910a7-0588-417a-9acd-cc64bffa3af3"
      },
      "execution_count": 11,
      "outputs": [
        {
          "output_type": "stream",
          "name": "stdout",
          "text": [
            "tensor([[0.5000],\n",
            "        [0.5000],\n",
            "        [0.5000],\n",
            "        [0.5000],\n",
            "        [0.5000],\n",
            "        [0.5000]], grad_fn=<MulBackward0>)\n",
            "torch.Size([6, 1])\n"
          ]
        }
      ]
    },
    {
      "cell_type": "code",
      "source": [
        "# Computing the Hypothesis (2)\n",
        "\n",
        "print('1/(1+e^{-1}) equals: ', torch.sigmoid(torch.FloatTensor([1])))"
      ],
      "metadata": {
        "colab": {
          "base_uri": "https://localhost:8080/"
        },
        "id": "cyCyQlPFNAUs",
        "outputId": "ab4466dd-7b32-4ede-b181-ac7018e4f794"
      },
      "execution_count": 16,
      "outputs": [
        {
          "output_type": "stream",
          "name": "stdout",
          "text": [
            "1/(1+e^{-1}) equals:  tensor([0.7311])\n"
          ]
        }
      ]
    },
    {
      "cell_type": "code",
      "source": [
        "hypothesis = torch.sigmoid(x_train.matmul(W) + b)"
      ],
      "metadata": {
        "id": "8YWomAbWNv1k"
      },
      "execution_count": 17,
      "outputs": []
    },
    {
      "cell_type": "code",
      "source": [
        "print(hypothesis)\n",
        "print(hypothesis.shape)\n",
        "\n",
        "#sigmoid 사용: Computing the Hypothesis (1)과 같은 결과"
      ],
      "metadata": {
        "colab": {
          "base_uri": "https://localhost:8080/"
        },
        "id": "WqLAqYw6N2ca",
        "outputId": "cf64a42a-d2c0-4c78-9c78-3006a2d4db05"
      },
      "execution_count": 18,
      "outputs": [
        {
          "output_type": "stream",
          "name": "stdout",
          "text": [
            "tensor([[0.5000],\n",
            "        [0.5000],\n",
            "        [0.5000],\n",
            "        [0.5000],\n",
            "        [0.5000],\n",
            "        [0.5000]], grad_fn=<SigmoidBackward0>)\n",
            "torch.Size([6, 1])\n"
          ]
        }
      ]
    },
    {
      "cell_type": "code",
      "source": [
        "# Computing the Cost Function\n",
        "\n",
        "print(hypothesis)\n",
        "print(y_train)"
      ],
      "metadata": {
        "colab": {
          "base_uri": "https://localhost:8080/"
        },
        "id": "OSXJquZBN6ov",
        "outputId": "a38f67ba-b946-4e68-892e-b91fe1207110"
      },
      "execution_count": 19,
      "outputs": [
        {
          "output_type": "stream",
          "name": "stdout",
          "text": [
            "tensor([[0.5000],\n",
            "        [0.5000],\n",
            "        [0.5000],\n",
            "        [0.5000],\n",
            "        [0.5000],\n",
            "        [0.5000]], grad_fn=<SigmoidBackward0>)\n",
            "tensor([[0.],\n",
            "        [0.],\n",
            "        [0.],\n",
            "        [1.],\n",
            "        [1.],\n",
            "        [1.]])\n"
          ]
        }
      ]
    },
    {
      "cell_type": "code",
      "source": [
        "-(y_train[0] * torch.log(hypothesis[0]) + \n",
        " (1 - y_train[0]) * torch.log(1 - hypothesis[0])) #element 하나"
      ],
      "metadata": {
        "id": "tl0Z2AFROvS7"
      },
      "execution_count": null,
      "outputs": []
    },
    {
      "cell_type": "code",
      "source": [
        "losses = -(y_train * torch.log(hypothesis) + \n",
        " (1 - y_train) * torch.log(1 - hypothesis)) #전체\n",
        "print(losses)"
      ],
      "metadata": {
        "colab": {
          "base_uri": "https://localhost:8080/"
        },
        "id": "XMWUayP6PeoA",
        "outputId": "393a21b5-67e3-4944-8ce5-9379a42c8542"
      },
      "execution_count": 23,
      "outputs": [
        {
          "output_type": "stream",
          "name": "stdout",
          "text": [
            "tensor([[0.6931],\n",
            "        [0.6931],\n",
            "        [0.6931],\n",
            "        [0.6931],\n",
            "        [0.6931],\n",
            "        [0.6931]], grad_fn=<NegBackward0>)\n"
          ]
        }
      ]
    },
    {
      "cell_type": "code",
      "source": [
        "cost = losses.mean()\n",
        "print(cost)"
      ],
      "metadata": {
        "colab": {
          "base_uri": "https://localhost:8080/"
        },
        "id": "jmS5CmFHQBFx",
        "outputId": "f9971b2d-8eb9-469d-deb4-bfa35315a6bc"
      },
      "execution_count": 26,
      "outputs": [
        {
          "output_type": "stream",
          "name": "stdout",
          "text": [
            "tensor(0.6931, grad_fn=<MeanBackward0>)\n"
          ]
        }
      ]
    },
    {
      "cell_type": "code",
      "source": [
        "F.binary_cross_entropy(hypothesis, y_train) #이전까지를 한번에"
      ],
      "metadata": {
        "colab": {
          "base_uri": "https://localhost:8080/"
        },
        "id": "-eExDw72QJ9L",
        "outputId": "1b962393-8394-4b29-a19d-fb30612325a2"
      },
      "execution_count": 27,
      "outputs": [
        {
          "output_type": "execute_result",
          "data": {
            "text/plain": [
              "tensor(0.6931, grad_fn=<BinaryCrossEntropyBackward0>)"
            ]
          },
          "metadata": {},
          "execution_count": 27
        }
      ]
    },
    {
      "cell_type": "code",
      "source": [
        "#Whole Training Procedure\n",
        "\n",
        "# 모델 초기화\n",
        "W = torch.zeros((2, 1), requires_grad=True)\n",
        "b = torch.zeros(1, requires_grad=True)\n",
        "\n",
        "# optimizer 설정\n",
        "optimizer = optim.SGD([W, b], lr=1)\n",
        "\n",
        "nb_epochs = 1000\n",
        "for epoch in range(nb_epochs + 1):\n",
        "\n",
        "  # Cost 계산\n",
        "  hypothesis = torch.sigmoid(x_train.matmul(W) + b) # or .mm or @\n",
        "  cost = F.binary_cross_entropy(hypothesis, y_train)\n",
        "\n",
        "  # cost로 H(x) 개선\n",
        "  optimizer.zero_grad()\n",
        "  cost.backward()\n",
        "  optimizer.step()\n",
        "\n",
        "  # 100번마다 로그 출력\n",
        "  if epoch % 100 == 0:\n",
        "    print('Epoch {:4d}/{} Cost: {:6f}'.format(\n",
        "        epoch, nb_epochs, cost.item()\n",
        "    ))"
      ],
      "metadata": {
        "colab": {
          "base_uri": "https://localhost:8080/"
        },
        "id": "g46ZgbZBQhKA",
        "outputId": "c7b1b459-3486-4c22-f60f-1d20c29f906e"
      },
      "execution_count": 29,
      "outputs": [
        {
          "output_type": "stream",
          "name": "stdout",
          "text": [
            "Epoch    0/1000 Cost: 0.693147\n",
            "Epoch  100/1000 Cost: 0.134722\n",
            "Epoch  200/1000 Cost: 0.080643\n",
            "Epoch  300/1000 Cost: 0.057900\n",
            "Epoch  400/1000 Cost: 0.045300\n",
            "Epoch  500/1000 Cost: 0.037261\n",
            "Epoch  600/1000 Cost: 0.031672\n",
            "Epoch  700/1000 Cost: 0.027556\n",
            "Epoch  800/1000 Cost: 0.024394\n",
            "Epoch  900/1000 Cost: 0.021888\n",
            "Epoch 1000/1000 Cost: 0.019852\n"
          ]
        }
      ]
    },
    {
      "cell_type": "code",
      "source": [
        "# Evaluation\n",
        "\n",
        "hypothesis = torch.sigmoid(x_train.matmul(W) + b)\n",
        "print(hypothesis[:5])\n",
        "#강의자료랑 결과가 나온다"
      ],
      "metadata": {
        "colab": {
          "base_uri": "https://localhost:8080/"
        },
        "id": "Il76i5CFScR_",
        "outputId": "cb2e25c6-f93a-4b67-d975-4c6bc25f66f5"
      },
      "execution_count": 31,
      "outputs": [
        {
          "output_type": "stream",
          "name": "stdout",
          "text": [
            "tensor([[2.7648e-04],\n",
            "        [3.1608e-02],\n",
            "        [3.8977e-02],\n",
            "        [9.5622e-01],\n",
            "        [9.9823e-01]], grad_fn=<SliceBackward0>)\n"
          ]
        }
      ]
    },
    {
      "cell_type": "code",
      "source": [
        "prediction = hypothesis >= torch.FloatTensor([0.5]) #0.5 이상이면 True\n",
        "print(prediction[:5])\n",
        "#강의자료랑 다른 결과가 나온다. 강의자료는 0 1 0 1 0 으로 T/F도 아니고 에측도 다름\n",
        "#예측이 다른 이유는 그냥 강의자료 정답이랑 내 정답이랑 달라서 생긴 문제였다"
      ],
      "metadata": {
        "colab": {
          "base_uri": "https://localhost:8080/"
        },
        "id": "zsY9uFauTcqF",
        "outputId": "8d27870d-8054-44e4-b241-3d38aa850bd7"
      },
      "execution_count": 32,
      "outputs": [
        {
          "output_type": "stream",
          "name": "stdout",
          "text": [
            "tensor([[False],\n",
            "        [False],\n",
            "        [False],\n",
            "        [ True],\n",
            "        [ True]])\n"
          ]
        }
      ]
    },
    {
      "cell_type": "code",
      "source": [
        "print(prediction[:5]) #예측\n",
        "print(y_train[:5]) #정답\n",
        "#강의자료랑 다르지만 예측은 맞음"
      ],
      "metadata": {
        "colab": {
          "base_uri": "https://localhost:8080/"
        },
        "id": "W-Bqp2S8UpLd",
        "outputId": "23ea3527-add1-4214-f248-30be0b6becec"
      },
      "execution_count": 33,
      "outputs": [
        {
          "output_type": "stream",
          "name": "stdout",
          "text": [
            "tensor([[False],\n",
            "        [False],\n",
            "        [False],\n",
            "        [ True],\n",
            "        [ True]])\n",
            "tensor([[0.],\n",
            "        [0.],\n",
            "        [0.],\n",
            "        [1.],\n",
            "        [1.]])\n"
          ]
        }
      ]
    },
    {
      "cell_type": "code",
      "source": [
        "correct_prediction = prediction.float() == y_train\n",
        "print(correct_prediction[:5])\n",
        "#정답 (5개에 대해)"
      ],
      "metadata": {
        "colab": {
          "base_uri": "https://localhost:8080/"
        },
        "id": "bx--YLluVFVh",
        "outputId": "77dd6b29-21a9-47fd-ec49-9acb439cb2ac"
      },
      "execution_count": 36,
      "outputs": [
        {
          "output_type": "stream",
          "name": "stdout",
          "text": [
            "tensor([[True],\n",
            "        [True],\n",
            "        [True],\n",
            "        [True],\n",
            "        [True]])\n"
          ]
        }
      ]
    },
    {
      "cell_type": "code",
      "source": [
        "#Higher Implementation with Class\n",
        "\n",
        "#실전\n",
        "\n",
        "class BinaryClassifier(nn.Module):\n",
        "    def __init__(self):\n",
        "        super().__init__()\n",
        "        self.linear = nn.Linear(8, 1)\n",
        "        self.sigmoid = nn.Sigmoid()\n",
        "        \n",
        "    def forward(self, x):\n",
        "        return self.sigmoid(self.linear(x))"
      ],
      "metadata": {
        "id": "NMoyXDFmVjqZ"
      },
      "execution_count": 59,
      "outputs": []
    },
    {
      "cell_type": "code",
      "source": [
        "model = BinaryClassifier()"
      ],
      "metadata": {
        "id": "jAicS59QWX3b"
      },
      "execution_count": 60,
      "outputs": []
    },
    {
      "cell_type": "code",
      "source": [
        "# # optimizer 설정\n",
        "# optimizer = optim.SGD(model.parameters(), lr=1)\n",
        "\n",
        "# nb_epochs = 100\n",
        "# for epoch in range(nb_epochs + 1):\n",
        "\n",
        "#   # H(x) 계산\n",
        "#   hypothesis = model(x_train)\n",
        "\n",
        "#   # Cost 계산\n",
        "#   cost = F.binary_cross_entrophy(hypothesis, y_train)\n",
        "\n",
        "#   # cost로 H(x) 개선\n",
        "#   optimizer.zero_grad()\n",
        "#   cost.backward()\n",
        "#   optimizer.step()\n",
        "\n",
        "#   # 20번마다 로그 출력\n",
        "#   if epoch % 10 == 0:\n",
        "#     prediction = hypothesis >= torch.FloatTensor([0.5])\n",
        "#     correct_prediction = prediction.float() == y_train\n",
        "#     accuracy = correct_prediction.sum().item() / len(correct_prediction)\n",
        "#     print('Epoch {:4d}/{} Cost: {:6f} Accuracy {:2.2f}%'.format(\n",
        "#         epoch, nb_epochs, cost.item(), accuracy * 100,\n",
        "#     ))\n",
        "\n",
        "#에러: self.linear = nn.Linear(8, 1)에서 크기가 현재 x_train과 맞지 않아 계산이 안 되는 것으로 보인다"
      ],
      "metadata": {
        "id": "bTQQlBavWan8"
      },
      "execution_count": 63,
      "outputs": []
    },
    {
      "cell_type": "code",
      "source": [],
      "metadata": {
        "id": "ZlfUIpdSY7_B"
      },
      "execution_count": null,
      "outputs": []
    }
  ]
}