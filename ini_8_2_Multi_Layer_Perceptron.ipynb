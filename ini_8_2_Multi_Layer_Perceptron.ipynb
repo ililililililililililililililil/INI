{
  "nbformat": 4,
  "nbformat_minor": 0,
  "metadata": {
    "colab": {
      "provenance": [],
      "authorship_tag": "ABX9TyN+iyEjWBKmaQjm9TjJZFOL",
      "include_colab_link": true
    },
    "kernelspec": {
      "name": "python3",
      "display_name": "Python 3"
    },
    "language_info": {
      "name": "python"
    }
  },
  "cells": [
    {
      "cell_type": "markdown",
      "metadata": {
        "id": "view-in-github",
        "colab_type": "text"
      },
      "source": [
        "<a href=\"https://colab.research.google.com/github/ililililililililililililililil/INI/blob/ini_pytorch/ini_8_2_Multi_Layer_Perceptron.ipynb\" target=\"_parent\"><img src=\"https://colab.research.google.com/assets/colab-badge.svg\" alt=\"Open In Colab\"/></a>"
      ]
    },
    {
      "cell_type": "code",
      "execution_count": 1,
      "metadata": {
        "id": "POD3M-qx34hJ"
      },
      "outputs": [],
      "source": [
        "#XOR 문제를 해결하기 위해서는 Multi Layer Perceptron이 필요\n",
        "#Multi Layer Perceptron: 여러 개의 층을 갖는 구조\n",
        "#문제: 당시에는 Multi Layer Perceptron을 학습할 방법이 없었다\n",
        "\n",
        "#Backpropagation: Multi Layer Perceptron 학습.\n",
        "#output과 정답의 차이인 Loss를 w에 대해 미분하여 뒤에서부터 Loss를 최소화하도록 w를 업데이트"
      ]
    },
    {
      "cell_type": "code",
      "source": [
        "#Backpropagation을 위해 미분을 계산하고 weight을 업데이트 하는 긴 코드를 파이토치에서 간단하게 해결할 수 있다"
      ],
      "metadata": {
        "id": "Yby8terv4jus"
      },
      "execution_count": 2,
      "outputs": []
    },
    {
      "cell_type": "code",
      "source": [
        "# Lab 9 XOR\n",
        "import torch"
      ],
      "metadata": {
        "id": "tuOV72336JWL"
      },
      "execution_count": 3,
      "outputs": []
    },
    {
      "cell_type": "code",
      "source": [
        "device = 'cuda' if torch.cuda.is_available() else 'cpu'\n",
        "\n",
        "# for reproducibility\n",
        "torch.manual_seed(777)\n",
        "if device == 'cuda':\n",
        "    torch.cuda.manual_seed_all(777)"
      ],
      "metadata": {
        "id": "hGs3BDEl6NYC"
      },
      "execution_count": 4,
      "outputs": []
    },
    {
      "cell_type": "code",
      "source": [
        "X = torch.FloatTensor([[0, 0], [0, 1], [1, 0], [1, 1]]).to(device)\n",
        "Y = torch.FloatTensor([[0], [1], [1], [0]]).to(device)"
      ],
      "metadata": {
        "id": "J_0cc5cS6QVB"
      },
      "execution_count": 5,
      "outputs": []
    },
    {
      "cell_type": "code",
      "source": [
        "# nn layers\n",
        "linear1 = torch.nn.Linear(2, 2, bias=True)\n",
        "linear2 = torch.nn.Linear(2, 1, bias=True) #두 개의 멀티레이어\n",
        "sigmoid = torch.nn.Sigmoid()"
      ],
      "metadata": {
        "id": "KrrOtzw36S06"
      },
      "execution_count": 6,
      "outputs": []
    },
    {
      "cell_type": "code",
      "source": [
        "# model\n",
        "model = torch.nn.Sequential(linear1, sigmoid, linear2, sigmoid).to(device)"
      ],
      "metadata": {
        "id": "cjrajoIV6XXK"
      },
      "execution_count": 7,
      "outputs": []
    },
    {
      "cell_type": "code",
      "source": [
        "# define cost/loss & optimizer\n",
        "criterion = torch.nn.BCELoss().to(device)\n",
        "optimizer = torch.optim.SGD(model.parameters(), lr=1)  # modified learning rate from 0.1 to 1"
      ],
      "metadata": {
        "id": "PVsdwqzA6ZXQ"
      },
      "execution_count": 8,
      "outputs": []
    },
    {
      "cell_type": "code",
      "source": [
        "for step in range(10001):\n",
        "    optimizer.zero_grad()\n",
        "    hypothesis = model(X)\n",
        "\n",
        "    # cost/loss function\n",
        "    cost = criterion(hypothesis, Y)\n",
        "    cost.backward()\n",
        "    optimizer.step()\n",
        "\n",
        "    if step % 100 == 0:\n",
        "        print(step, cost.item())"
      ],
      "metadata": {
        "colab": {
          "base_uri": "https://localhost:8080/"
        },
        "id": "t0YiwwuH6cYX",
        "outputId": "e133da94-bf22-4138-a9d3-65f1fb5ffaea"
      },
      "execution_count": 9,
      "outputs": [
        {
          "output_type": "stream",
          "name": "stdout",
          "text": [
            "0 0.7434073090553284\n",
            "100 0.693165123462677\n",
            "200 0.6931577920913696\n",
            "300 0.6931517124176025\n",
            "400 0.6931463479995728\n",
            "500 0.6931411027908325\n",
            "600 0.6931357383728027\n",
            "700 0.6931295394897461\n",
            "800 0.6931220889091492\n",
            "900 0.6931126117706299\n",
            "1000 0.6930999755859375\n",
            "1100 0.693082332611084\n",
            "1200 0.6930569410324097\n",
            "1300 0.6930190324783325\n",
            "1400 0.6929606199264526\n",
            "1500 0.6928660273551941\n",
            "1600 0.6927032470703125\n",
            "1700 0.6923960447311401\n",
            "1800 0.6917302012443542\n",
            "1900 0.6899654269218445\n",
            "2000 0.6838315725326538\n",
            "2100 0.656166672706604\n",
            "2200 0.43110108375549316\n",
            "2300 0.1348932385444641\n",
            "2400 0.06630434840917587\n",
            "2500 0.04216814786195755\n",
            "2600 0.030453860759735107\n",
            "2700 0.023665901273489\n",
            "2800 0.019277729094028473\n",
            "2900 0.016224030405282974\n",
            "3000 0.01398380659520626\n",
            "3100 0.012273933738470078\n",
            "3200 0.010928117670118809\n",
            "3300 0.009842470288276672\n",
            "3400 0.008949022740125656\n",
            "3500 0.008201325312256813\n",
            "3600 0.007566750515252352\n",
            "3700 0.007021679077297449\n",
            "3800 0.006548586301505566\n",
            "3900 0.0061342460103333\n",
            "4000 0.005768365692347288\n",
            "4100 0.005443032830953598\n",
            "4200 0.005151893012225628\n",
            "4300 0.004889910575002432\n",
            "4400 0.004652876406908035\n",
            "4500 0.004437456373125315\n",
            "4600 0.004240858368575573\n",
            "4700 0.004060688894242048\n",
            "4800 0.003895024536177516\n",
            "4900 0.0037422047462314367\n",
            "5000 0.0036007300950586796\n",
            "5100 0.0034694781061261892\n",
            "5200 0.0033473088406026363\n",
            "5300 0.0032333871349692345\n",
            "5400 0.0031268824823200703\n",
            "5500 0.0030270619317889214\n",
            "5600 0.002933346200734377\n",
            "5700 0.0028452000115066767\n",
            "5800 0.0027621504850685596\n",
            "5900 0.0026837829500436783\n",
            "6000 0.0026096515357494354\n",
            "6100 0.0025394787080585957\n",
            "6200 0.0024729506112635136\n",
            "6300 0.0024097615387290716\n",
            "6400 0.002349694725126028\n",
            "6500 0.002292559714987874\n",
            "6600 0.0022380687296390533\n",
            "6700 0.0021860888227820396\n",
            "6800 0.0021364721469581127\n",
            "6900 0.002089009154587984\n",
            "7000 0.0020436227787286043\n",
            "7100 0.0020001279190182686\n",
            "7200 0.001958427717909217\n",
            "7300 0.001918404595926404\n",
            "7400 0.0018799990648403764\n",
            "7500 0.0018430724740028381\n",
            "7600 0.0018075515981763601\n",
            "7700 0.0017733550630509853\n",
            "7800 0.0017404230311512947\n",
            "7900 0.001708710566163063\n",
            "8000 0.001678096828982234\n",
            "8100 0.0016485501546412706\n",
            "8200 0.0016200069803744555\n",
            "8300 0.0015924399485811591\n",
            "8400 0.0015657986514270306\n",
            "8500 0.0015400205738842487\n",
            "8600 0.0015150569379329681\n",
            "8700 0.001490917056798935\n",
            "8800 0.0014674890553578734\n",
            "8900 0.0014448158908635378\n",
            "9000 0.0014228187501430511\n",
            "9100 0.001401480520144105\n",
            "9200 0.0013806952629238367\n",
            "9300 0.0013605993008241057\n",
            "9400 0.00134105677716434\n",
            "9500 0.001322026364505291\n",
            "9600 0.0013035556767135859\n",
            "9700 0.00128563039470464\n",
            "9800 0.0012681189691647887\n",
            "9900 0.0012511082459241152\n",
            "10000 0.0012345178984105587\n"
          ]
        }
      ]
    },
    {
      "cell_type": "code",
      "source": [
        "# Accuracy computation\n",
        "# True if hypothesis>0.5 else False\n",
        "with torch.no_grad():\n",
        "    hypothesis = model(X)\n",
        "    predicted = (hypothesis > 0.5).float()\n",
        "    accuracy = (predicted == Y).float().mean()\n",
        "    print('\\nHypothesis: ', hypothesis.detach().cpu().numpy(), '\\nCorrect: ', predicted.detach().cpu().numpy(), '\\nAccuracy: ', accuracy.item())\n",
        "#정확도: 100"
      ],
      "metadata": {
        "colab": {
          "base_uri": "https://localhost:8080/"
        },
        "id": "IJN-GxkO6e1i",
        "outputId": "9a525c40-19e7-4620-fbf2-9a5477f0583a"
      },
      "execution_count": 10,
      "outputs": [
        {
          "output_type": "stream",
          "name": "stdout",
          "text": [
            "\n",
            "Hypothesis:  [[0.00106364]\n",
            " [0.99889404]\n",
            " [0.99889404]\n",
            " [0.00165861]] \n",
            "Correct:  [[0.]\n",
            " [1.]\n",
            " [1.]\n",
            " [0.]] \n",
            "Accuracy:  1.0\n"
          ]
        }
      ]
    },
    {
      "cell_type": "code",
      "source": [
        "#레이어를 더 깊게 쌓아보자"
      ],
      "metadata": {
        "id": "Xk_xhQmn6nkt"
      },
      "execution_count": 11,
      "outputs": []
    },
    {
      "cell_type": "code",
      "source": [
        "# Lab 9 XOR\n",
        "import torch"
      ],
      "metadata": {
        "id": "kn9b0W_a6vLa"
      },
      "execution_count": 12,
      "outputs": []
    },
    {
      "cell_type": "code",
      "source": [
        "device = 'cuda' if torch.cuda.is_available() else 'cpu'\n",
        "\n",
        "# for reproducibility\n",
        "torch.manual_seed(777)\n",
        "if device == 'cuda':\n",
        "    torch.cuda.manual_seed_all(777)"
      ],
      "metadata": {
        "id": "y3zP_O8T6z1_"
      },
      "execution_count": 13,
      "outputs": []
    },
    {
      "cell_type": "code",
      "source": [
        "X = torch.FloatTensor([[0, 0], [0, 1], [1, 0], [1, 1]]).to(device)\n",
        "Y = torch.FloatTensor([[0], [1], [1], [0]]).to(device)"
      ],
      "metadata": {
        "id": "nnLGUnFs61wO"
      },
      "execution_count": 14,
      "outputs": []
    },
    {
      "cell_type": "code",
      "source": [
        "# nn layers\n",
        "linear1 = torch.nn.Linear(2, 10, bias=True)\n",
        "linear2 = torch.nn.Linear(10, 10, bias=True)\n",
        "linear3 = torch.nn.Linear(10, 10, bias=True)\n",
        "linear4 = torch.nn.Linear(10, 1, bias=True) #네 개의 멀티레이어 (나머지 코드는 동일)\n",
        "sigmoid = torch.nn.Sigmoid()"
      ],
      "metadata": {
        "id": "_4Mjwzlx63Vj"
      },
      "execution_count": 15,
      "outputs": []
    },
    {
      "cell_type": "code",
      "source": [
        "# model\n",
        "model = torch.nn.Sequential(linear1, sigmoid, linear2, sigmoid, linear3, sigmoid, linear4, sigmoid).to(device)"
      ],
      "metadata": {
        "id": "gd21jeve69rQ"
      },
      "execution_count": 17,
      "outputs": []
    },
    {
      "cell_type": "code",
      "source": [
        "# define cost/loss & optimizer\n",
        "criterion = torch.nn.BCELoss().to(device)\n",
        "optimizer = torch.optim.SGD(model.parameters(), lr=1)  # modified learning rate from 0.1 to 1"
      ],
      "metadata": {
        "id": "kNZc6vH37CDK"
      },
      "execution_count": 18,
      "outputs": []
    },
    {
      "cell_type": "code",
      "source": [
        "for step in range(10001):\n",
        "    optimizer.zero_grad()\n",
        "    hypothesis = model(X)\n",
        "\n",
        "    # cost/loss function\n",
        "    cost = criterion(hypothesis, Y)\n",
        "    cost.backward()\n",
        "    optimizer.step()\n",
        "\n",
        "    if step % 100 == 0:\n",
        "        print(step, cost.item())\n",
        "#Loss가 더 많이 줄어들었다"
      ],
      "metadata": {
        "colab": {
          "base_uri": "https://localhost:8080/"
        },
        "id": "GdYqjFK07IEg",
        "outputId": "2613c9e4-7819-4fd1-b026-e29820065fea"
      },
      "execution_count": 19,
      "outputs": [
        {
          "output_type": "stream",
          "name": "stdout",
          "text": [
            "0 0.6948983073234558\n",
            "100 0.693155825138092\n",
            "200 0.6931535005569458\n",
            "300 0.6931513547897339\n",
            "400 0.693149209022522\n",
            "500 0.6931473016738892\n",
            "600 0.6931453943252563\n",
            "700 0.6931434869766235\n",
            "800 0.6931416988372803\n",
            "900 0.6931397914886475\n",
            "1000 0.6931380033493042\n",
            "1100 0.6931361556053162\n",
            "1200 0.6931343078613281\n",
            "1300 0.6931324005126953\n",
            "1400 0.6931304931640625\n",
            "1500 0.6931284666061401\n",
            "1600 0.6931264400482178\n",
            "1700 0.6931242942810059\n",
            "1800 0.6931220293045044\n",
            "1900 0.6931197047233582\n",
            "2000 0.6931172609329224\n",
            "2100 0.6931145191192627\n",
            "2200 0.6931115984916687\n",
            "2300 0.6931084990501404\n",
            "2400 0.6931051015853882\n",
            "2500 0.6931014657020569\n",
            "2600 0.6930974721908569\n",
            "2700 0.6930930018424988\n",
            "2800 0.6930879950523376\n",
            "2900 0.6930825114250183\n",
            "3000 0.6930763721466064\n",
            "3100 0.6930692791938782\n",
            "3200 0.6930612325668335\n",
            "3300 0.6930519342422485\n",
            "3400 0.6930410861968994\n",
            "3500 0.6930283904075623\n",
            "3600 0.6930132508277893\n",
            "3700 0.6929951906204224\n",
            "3800 0.6929728984832764\n",
            "3900 0.6929453015327454\n",
            "4000 0.6929103136062622\n",
            "4100 0.6928649544715881\n",
            "4200 0.6928046941757202\n",
            "4300 0.692721962928772\n",
            "4400 0.6926040649414062\n",
            "4500 0.6924278736114502\n",
            "4600 0.6921480894088745\n",
            "4700 0.6916665434837341\n",
            "4800 0.6907395124435425\n",
            "4900 0.688620388507843\n",
            "5000 0.6820822358131409\n",
            "5100 0.6472561359405518\n",
            "5200 0.4494591951370239\n",
            "5300 0.040959082543849945\n",
            "5400 0.00970381312072277\n",
            "5500 0.005025675054639578\n",
            "5600 0.0032926504500210285\n",
            "5700 0.002414308488368988\n",
            "5800 0.0018906794721260667\n",
            "5900 0.0015457236440852284\n",
            "6000 0.0013025871012359858\n",
            "6100 0.0011226324131712317\n",
            "6200 0.0009844365995377302\n",
            "6300 0.0008752153371460736\n",
            "6400 0.0007868335815146565\n",
            "6500 0.0007139019435271621\n",
            "6600 0.0006528779049403965\n",
            "6700 0.0006009973585605621\n",
            "6800 0.0005564477760344744\n",
            "6900 0.0005177835118956864\n",
            "7000 0.0004838814493268728\n",
            "7100 0.00045402138493955135\n",
            "7200 0.00042746184044517577\n",
            "7300 0.0004037291801068932\n",
            "7400 0.0003823669976554811\n",
            "7500 0.000363051425665617\n",
            "7600 0.0003455582191236317\n",
            "7700 0.00032959578675217927\n",
            "7800 0.00031496811425313354\n",
            "7900 0.00030150680686347187\n",
            "8000 0.0002891648327931762\n",
            "8100 0.0002776731562335044\n",
            "8200 0.0002671047404874116\n",
            "8300 0.0002572371740825474\n",
            "8400 0.0002480485418345779\n",
            "8500 0.0002394788316451013\n",
            "8600 0.00023144138685893267\n",
            "8700 0.00022394144616555423\n",
            "8800 0.00021683801605831832\n",
            "8900 0.0002101719583151862\n",
            "9000 0.00020392694568727165\n",
            "9100 0.00019799816072918475\n",
            "9200 0.0001923730451380834\n",
            "9300 0.000187097757589072\n",
            "9400 0.00018204246589448303\n",
            "9500 0.00017725792713463306\n",
            "9600 0.00017273490084335208\n",
            "9700 0.00016839243471622467\n",
            "9800 0.0001642809365876019\n",
            "9900 0.00016034928557928652\n",
            "10000 0.00015660682402085513\n"
          ]
        }
      ]
    },
    {
      "cell_type": "code",
      "source": [
        "# Accuracy computation\n",
        "# True if hypothesis>0.5 else False\n",
        "with torch.no_grad():\n",
        "    hypothesis = model(X)\n",
        "    predicted = (hypothesis > 0.5).float()\n",
        "    accuracy = (predicted == Y).float().mean()\n",
        "    print('\\nHypothesis: ', hypothesis.detach().cpu().numpy(), '\\nCorrect: ', predicted.detach().cpu().numpy(), '\\nAccuracy: ', accuracy.item())\n",
        "#정확도: 100"
      ],
      "metadata": {
        "colab": {
          "base_uri": "https://localhost:8080/"
        },
        "id": "Lff31YDa7NIr",
        "outputId": "29e369a0-94d6-46f2-a772-667845a39fa8"
      },
      "execution_count": 20,
      "outputs": [
        {
          "output_type": "stream",
          "name": "stdout",
          "text": [
            "\n",
            "Hypothesis:  [[1.1174576e-04]\n",
            " [9.9982870e-01]\n",
            " [9.9984229e-01]\n",
            " [1.8542419e-04]] \n",
            "Correct:  [[0.]\n",
            " [1.]\n",
            " [1.]\n",
            " [0.]] \n",
            "Accuracy:  1.0\n"
          ]
        }
      ]
    },
    {
      "cell_type": "code",
      "source": [],
      "metadata": {
        "id": "BW592M8d7SRV"
      },
      "execution_count": null,
      "outputs": []
    }
  ]
}