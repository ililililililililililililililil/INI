{
  "nbformat": 4,
  "nbformat_minor": 0,
  "metadata": {
    "colab": {
      "provenance": [],
      "authorship_tag": "ABX9TyOS7FoshdIYZroPkvemuvqO",
      "include_colab_link": true
    },
    "kernelspec": {
      "name": "python3",
      "display_name": "Python 3"
    },
    "language_info": {
      "name": "python"
    }
  },
  "cells": [
    {
      "cell_type": "markdown",
      "metadata": {
        "id": "view-in-github",
        "colab_type": "text"
      },
      "source": [
        "<a href=\"https://colab.research.google.com/github/ililililililililililililililil/INI/blob/ini_pytorch/ini_10_1_Convolution.ipynb\" target=\"_parent\"><img src=\"https://colab.research.google.com/assets/colab-badge.svg\" alt=\"Open In Colab\"/></a>"
      ]
    },
    {
      "cell_type": "code",
      "execution_count": 1,
      "metadata": {
        "id": "KvYA3rBMe2x8"
      },
      "outputs": [],
      "source": [
        "#Convolution: 이미지에 필터를 이동시켜서 각 원소의 값을 곱하여 나온 결과를 더한 값을 출력한다.\n",
        "#stride: 필터가 얼마나 이동할 것인가\n",
        "\n",
        "#Output size = (input size - filter size + (2*padding)) / Stride + 1"
      ]
    },
    {
      "cell_type": "code",
      "source": [
        "import torch\n",
        "import torch.nn as nn"
      ],
      "metadata": {
        "id": "XFCDH0utz473"
      },
      "execution_count": 2,
      "outputs": []
    },
    {
      "cell_type": "code",
      "source": [
        "conv = nn.Conv2d(1, 1, 11, stride=4, padding=0)\n",
        "print(conv)"
      ],
      "metadata": {
        "colab": {
          "base_uri": "https://localhost:8080/"
        },
        "id": "zk0u5khI0Sja",
        "outputId": "61b775d9-cf2b-4517-99e5-7669910bf1d7"
      },
      "execution_count": 3,
      "outputs": [
        {
          "output_type": "stream",
          "name": "stdout",
          "text": [
            "Conv2d(1, 1, kernel_size=(11, 11), stride=(4, 4))\n"
          ]
        }
      ]
    },
    {
      "cell_type": "code",
      "source": [
        "inputs = torch.Tensor(1, 1, 227, 227)\n",
        "print(inputs.shape)"
      ],
      "metadata": {
        "colab": {
          "base_uri": "https://localhost:8080/"
        },
        "id": "NJzdzQqW0bfV",
        "outputId": "1add34b9-7f41-4e6b-8001-6f5b349ae51a"
      },
      "execution_count": 5,
      "outputs": [
        {
          "output_type": "stream",
          "name": "stdout",
          "text": [
            "torch.Size([1, 1, 227, 227])\n"
          ]
        }
      ]
    },
    {
      "cell_type": "code",
      "source": [
        "out = conv(inputs)\n",
        "print(out.shape)"
      ],
      "metadata": {
        "colab": {
          "base_uri": "https://localhost:8080/"
        },
        "id": "q40-l7T70h-G",
        "outputId": "2bb97e2c-412e-48fd-ec30-880d66b6833d"
      },
      "execution_count": 6,
      "outputs": [
        {
          "output_type": "stream",
          "name": "stdout",
          "text": [
            "torch.Size([1, 1, 55, 55])\n"
          ]
        }
      ]
    },
    {
      "cell_type": "code",
      "source": [
        "#Neuron(Perceptron)과 Convolution\n",
        "#퍼셉트론이 bias를 가지는 것처럼 이 필터도 값이 output + bias가 된다.\n",
        "\n",
        "#Pooling\n",
        "#Max Pooling: size를 2로 잡았을 때 2x2. 사이즈 안에서 가장 큰 값을 뱉어낸다.\n",
        "#Average Pooling: 사이즈 안에서 평균을 출력한다."
      ],
      "metadata": {
        "id": "dm3PxepN0v0W"
      },
      "execution_count": 7,
      "outputs": []
    },
    {
      "cell_type": "code",
      "source": [
        "#CNN implementation\n",
        "\n",
        "import torch\n",
        "import torch.nn as nn"
      ],
      "metadata": {
        "id": "TN8rYmqi02Cf"
      },
      "execution_count": 8,
      "outputs": []
    },
    {
      "cell_type": "code",
      "source": [
        "inputs = torch.Tensor(1, 1, 28, 28)\n",
        "conv1 = nn.Conv2d(1, 5, 5) #input 1개 output 1개 filter size 5\n",
        "pool = nn.MaxPool2d(2)\n",
        "\n",
        "out = conv1(inputs)\n",
        "out2 = pool(out)\n",
        "\n",
        "print(out.size())\n",
        "print(out2.size())"
      ],
      "metadata": {
        "colab": {
          "base_uri": "https://localhost:8080/"
        },
        "id": "DP9uHG-v09Fk",
        "outputId": "2b0c1fd3-3df2-4706-9058-470b7c1829dc"
      },
      "execution_count": 10,
      "outputs": [
        {
          "output_type": "stream",
          "name": "stdout",
          "text": [
            "torch.Size([1, 5, 24, 24])\n",
            "torch.Size([1, 5, 12, 12])\n"
          ]
        }
      ]
    },
    {
      "cell_type": "code",
      "source": [
        "#Convolution: 필터가 기존의 이미지와 얼마나 겹치는가(뒤집어진 상태로 입력을 넣는다)\n",
        "#Cross-correlation: 뒤집지 않고 입력을 넣는다."
      ],
      "metadata": {
        "id": "IYMn62Py1jOW"
      },
      "execution_count": 11,
      "outputs": []
    },
    {
      "cell_type": "code",
      "source": [],
      "metadata": {
        "id": "Wnk4wlKs1umj"
      },
      "execution_count": null,
      "outputs": []
    }
  ]
}